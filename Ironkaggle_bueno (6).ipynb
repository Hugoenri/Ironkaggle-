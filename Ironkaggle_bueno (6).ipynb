{
 "cells": [
  {
   "cell_type": "markdown",
   "id": "e5f49127-83d9-4a0f-b609-cb10f12ecac4",
   "metadata": {
    "jp-MarkdownHeadingCollapsed": true
   },
   "source": [
    "<h1 style=\"color: #FF8C00;\">00 Libraries |</h1>"
   ]
  },
  {
   "cell_type": "code",
   "execution_count": 1,
   "id": "0449b328-774a-4cc3-bf4e-78d0a36a02e4",
   "metadata": {},
   "outputs": [],
   "source": [
    "import pandas as pd\n",
    "import numpy as np\n",
    "import matplotlib.pyplot as plt\n",
    "import seaborn as sns\n",
    "from sklearn.model_selection import train_test_split\n",
    "from sklearn.linear_model import LinearRegression\n",
    "from sklearn.preprocessing import StandardScaler, MinMaxScaler\n",
    "from scipy import stats\n",
    "import math\n",
    "import statsmodels.api as sm\n",
    "import statsmodels.formula.api as smf\n",
    "from datetime import datetime\n",
    "from sklearn.linear_model import Ridge"
   ]
  },
  {
   "cell_type": "markdown",
   "id": "04d8bd4b-ba8d-4e5c-a9c5-37ffefed3d2e",
   "metadata": {},
   "source": [
    "This dataset comprises one-year data (from May 2014 to May 2015) of house sale prices across King County, including Seattle. It features 21 different columns, providing a comprehensive overview of the real estate market:\r\n",
    "\r\n",
    "- **id**: A unique identifier for a house.\r\n",
    "- **date**: The date on which the house was sold.\r\n",
    "- **price**: The sale price of the house (prediction target).\r\n",
    "- **bedrooms**: Number of bedrooms in the house.\r\n",
    "- **bathrooms**: Number of bathrooms in the house, per bedroom.\r\n",
    "- **sqft_living**: Square footage of the interior living space.\r\n",
    "- **sqft_lot**: Square footage of the land space.\r\n",
    "- **floors**: Number of floors (levels) in the house.\r\n",
    "- **waterfront**: Whether the house has a waterfront view.\r\n",
    "- **view**: Number of times the house has been viewed.\r\n",
    "- **condition**: The overall condition of the house.\r\n",
    "- **grade**: The overall grade given to the house, based on the King County grading system.\r\n",
    "- **sqft_above**: Square footage of the house apart from the basement.\r\n",
    "- **sqft_basement**: Square footage of the basement.\r\n",
    "- **yr_built**: The year the house was built.\r\n",
    "- **yr_renovated**: The year the house was renovated.\r\n",
    "- **zipcode**: ZIP code area.\r\n",
    "- **lat**: Latitude coordinate.\r\n",
    "- **long**: Longitude coordinate.\r\n",
    "- **sqft_living15**: The interior living space for the nearest 15 neighbors in 2015.\r\n",
    "- **sqft_lot15**: The land spaces for the nearest 15 neighbors in 2015.\r\n",
    "\r\n",
    "**TARGET --> Price**: Our primary focus is to understand which features most significantly impact the house price. Additionally, we aim to explore properties valued at $650K and above for more detailed insights.\r\n"
   ]
  },
  {
   "cell_type": "markdown",
   "id": "3ab555fa-e644-4f24-b03b-20d3bc3362ad",
   "metadata": {
    "jp-MarkdownHeadingCollapsed": true
   },
   "source": [
    "<h1 style=\"color: #FF8C00;\">01 | Data Extraction </h1>"
   ]
  },
  {
   "cell_type": "code",
   "execution_count": 3,
   "id": "903d4bf4-d400-4cce-a6f6-58c0dec35e24",
   "metadata": {},
   "outputs": [
    {
     "data": {
      "text/html": [
       "<div>\n",
       "<style scoped>\n",
       "    .dataframe tbody tr th:only-of-type {\n",
       "        vertical-align: middle;\n",
       "    }\n",
       "\n",
       "    .dataframe tbody tr th {\n",
       "        vertical-align: top;\n",
       "    }\n",
       "\n",
       "    .dataframe thead th {\n",
       "        text-align: right;\n",
       "    }\n",
       "</style>\n",
       "<table border=\"1\" class=\"dataframe\">\n",
       "  <thead>\n",
       "    <tr style=\"text-align: right;\">\n",
       "      <th></th>\n",
       "      <th>id</th>\n",
       "      <th>date</th>\n",
       "      <th>price</th>\n",
       "      <th>bedrooms</th>\n",
       "      <th>bathrooms</th>\n",
       "      <th>sqft_living</th>\n",
       "      <th>sqft_lot</th>\n",
       "      <th>floors</th>\n",
       "      <th>waterfront</th>\n",
       "      <th>view</th>\n",
       "      <th>...</th>\n",
       "      <th>grade</th>\n",
       "      <th>sqft_above</th>\n",
       "      <th>sqft_basement</th>\n",
       "      <th>yr_built</th>\n",
       "      <th>yr_renovated</th>\n",
       "      <th>zipcode</th>\n",
       "      <th>lat</th>\n",
       "      <th>long</th>\n",
       "      <th>sqft_living15</th>\n",
       "      <th>sqft_lot15</th>\n",
       "    </tr>\n",
       "  </thead>\n",
       "  <tbody>\n",
       "    <tr>\n",
       "      <th>0</th>\n",
       "      <td>7129300520</td>\n",
       "      <td>20141013T000000</td>\n",
       "      <td>221900.0</td>\n",
       "      <td>3</td>\n",
       "      <td>1.00</td>\n",
       "      <td>1180</td>\n",
       "      <td>5650</td>\n",
       "      <td>1.0</td>\n",
       "      <td>0</td>\n",
       "      <td>0</td>\n",
       "      <td>...</td>\n",
       "      <td>7</td>\n",
       "      <td>1180</td>\n",
       "      <td>0</td>\n",
       "      <td>1955</td>\n",
       "      <td>0</td>\n",
       "      <td>98178</td>\n",
       "      <td>47.5112</td>\n",
       "      <td>-122.257</td>\n",
       "      <td>1340</td>\n",
       "      <td>5650</td>\n",
       "    </tr>\n",
       "    <tr>\n",
       "      <th>1</th>\n",
       "      <td>6414100192</td>\n",
       "      <td>20141209T000000</td>\n",
       "      <td>538000.0</td>\n",
       "      <td>3</td>\n",
       "      <td>2.25</td>\n",
       "      <td>2570</td>\n",
       "      <td>7242</td>\n",
       "      <td>2.0</td>\n",
       "      <td>0</td>\n",
       "      <td>0</td>\n",
       "      <td>...</td>\n",
       "      <td>7</td>\n",
       "      <td>2170</td>\n",
       "      <td>400</td>\n",
       "      <td>1951</td>\n",
       "      <td>1991</td>\n",
       "      <td>98125</td>\n",
       "      <td>47.7210</td>\n",
       "      <td>-122.319</td>\n",
       "      <td>1690</td>\n",
       "      <td>7639</td>\n",
       "    </tr>\n",
       "    <tr>\n",
       "      <th>2</th>\n",
       "      <td>5631500400</td>\n",
       "      <td>20150225T000000</td>\n",
       "      <td>180000.0</td>\n",
       "      <td>2</td>\n",
       "      <td>1.00</td>\n",
       "      <td>770</td>\n",
       "      <td>10000</td>\n",
       "      <td>1.0</td>\n",
       "      <td>0</td>\n",
       "      <td>0</td>\n",
       "      <td>...</td>\n",
       "      <td>6</td>\n",
       "      <td>770</td>\n",
       "      <td>0</td>\n",
       "      <td>1933</td>\n",
       "      <td>0</td>\n",
       "      <td>98028</td>\n",
       "      <td>47.7379</td>\n",
       "      <td>-122.233</td>\n",
       "      <td>2720</td>\n",
       "      <td>8062</td>\n",
       "    </tr>\n",
       "    <tr>\n",
       "      <th>3</th>\n",
       "      <td>2487200875</td>\n",
       "      <td>20141209T000000</td>\n",
       "      <td>604000.0</td>\n",
       "      <td>4</td>\n",
       "      <td>3.00</td>\n",
       "      <td>1960</td>\n",
       "      <td>5000</td>\n",
       "      <td>1.0</td>\n",
       "      <td>0</td>\n",
       "      <td>0</td>\n",
       "      <td>...</td>\n",
       "      <td>7</td>\n",
       "      <td>1050</td>\n",
       "      <td>910</td>\n",
       "      <td>1965</td>\n",
       "      <td>0</td>\n",
       "      <td>98136</td>\n",
       "      <td>47.5208</td>\n",
       "      <td>-122.393</td>\n",
       "      <td>1360</td>\n",
       "      <td>5000</td>\n",
       "    </tr>\n",
       "    <tr>\n",
       "      <th>4</th>\n",
       "      <td>1954400510</td>\n",
       "      <td>20150218T000000</td>\n",
       "      <td>510000.0</td>\n",
       "      <td>3</td>\n",
       "      <td>2.00</td>\n",
       "      <td>1680</td>\n",
       "      <td>8080</td>\n",
       "      <td>1.0</td>\n",
       "      <td>0</td>\n",
       "      <td>0</td>\n",
       "      <td>...</td>\n",
       "      <td>8</td>\n",
       "      <td>1680</td>\n",
       "      <td>0</td>\n",
       "      <td>1987</td>\n",
       "      <td>0</td>\n",
       "      <td>98074</td>\n",
       "      <td>47.6168</td>\n",
       "      <td>-122.045</td>\n",
       "      <td>1800</td>\n",
       "      <td>7503</td>\n",
       "    </tr>\n",
       "  </tbody>\n",
       "</table>\n",
       "<p>5 rows × 21 columns</p>\n",
       "</div>"
      ],
      "text/plain": [
       "           id             date     price  bedrooms  bathrooms  sqft_living  \\\n",
       "0  7129300520  20141013T000000  221900.0         3       1.00         1180   \n",
       "1  6414100192  20141209T000000  538000.0         3       2.25         2570   \n",
       "2  5631500400  20150225T000000  180000.0         2       1.00          770   \n",
       "3  2487200875  20141209T000000  604000.0         4       3.00         1960   \n",
       "4  1954400510  20150218T000000  510000.0         3       2.00         1680   \n",
       "\n",
       "   sqft_lot  floors  waterfront  view  ...  grade  sqft_above  sqft_basement  \\\n",
       "0      5650     1.0           0     0  ...      7        1180              0   \n",
       "1      7242     2.0           0     0  ...      7        2170            400   \n",
       "2     10000     1.0           0     0  ...      6         770              0   \n",
       "3      5000     1.0           0     0  ...      7        1050            910   \n",
       "4      8080     1.0           0     0  ...      8        1680              0   \n",
       "\n",
       "   yr_built  yr_renovated  zipcode      lat     long  sqft_living15  \\\n",
       "0      1955             0    98178  47.5112 -122.257           1340   \n",
       "1      1951          1991    98125  47.7210 -122.319           1690   \n",
       "2      1933             0    98028  47.7379 -122.233           2720   \n",
       "3      1965             0    98136  47.5208 -122.393           1360   \n",
       "4      1987             0    98074  47.6168 -122.045           1800   \n",
       "\n",
       "   sqft_lot15  \n",
       "0        5650  \n",
       "1        7639  \n",
       "2        8062  \n",
       "3        5000  \n",
       "4        7503  \n",
       "\n",
       "[5 rows x 21 columns]"
      ]
     },
     "execution_count": 3,
     "metadata": {},
     "output_type": "execute_result"
    }
   ],
   "source": [
    "data = pd.read_csv(\"king_ country_ houses_aa.csv\")\n",
    "data.head()"
   ]
  },
  {
   "cell_type": "markdown",
   "id": "b478535d-1490-4265-a73a-1a673b995d26",
   "metadata": {},
   "source": [
    "<h2 style=\"color: #FF6347;\">Exploring the Data (First impression)</h2>"
   ]
  },
  {
   "cell_type": "code",
   "execution_count": 5,
   "id": "7e630966-05ab-47b5-9b29-686ed59d63fa",
   "metadata": {},
   "outputs": [
    {
     "name": "stdout",
     "output_type": "stream",
     "text": [
      "<class 'pandas.core.frame.DataFrame'>\n",
      "RangeIndex: 21613 entries, 0 to 21612\n",
      "Data columns (total 21 columns):\n",
      " #   Column         Non-Null Count  Dtype  \n",
      "---  ------         --------------  -----  \n",
      " 0   id             21613 non-null  int64  \n",
      " 1   date           21613 non-null  object \n",
      " 2   price          21613 non-null  float64\n",
      " 3   bedrooms       21613 non-null  int64  \n",
      " 4   bathrooms      21613 non-null  float64\n",
      " 5   sqft_living    21613 non-null  int64  \n",
      " 6   sqft_lot       21613 non-null  int64  \n",
      " 7   floors         21613 non-null  float64\n",
      " 8   waterfront     21613 non-null  int64  \n",
      " 9   view           21613 non-null  int64  \n",
      " 10  condition      21613 non-null  int64  \n",
      " 11  grade          21613 non-null  int64  \n",
      " 12  sqft_above     21613 non-null  int64  \n",
      " 13  sqft_basement  21613 non-null  int64  \n",
      " 14  yr_built       21613 non-null  int64  \n",
      " 15  yr_renovated   21613 non-null  int64  \n",
      " 16  zipcode        21613 non-null  int64  \n",
      " 17  lat            21613 non-null  float64\n",
      " 18  long           21613 non-null  float64\n",
      " 19  sqft_living15  21613 non-null  int64  \n",
      " 20  sqft_lot15     21613 non-null  int64  \n",
      "dtypes: float64(5), int64(15), object(1)\n",
      "memory usage: 3.5+ MB\n"
     ]
    }
   ],
   "source": [
    "data.info()"
   ]
  },
  {
   "cell_type": "code",
   "execution_count": 7,
   "id": "5ffe357f-4c44-4ebf-ac79-196d66891fc0",
   "metadata": {},
   "outputs": [
    {
     "data": {
      "text/plain": [
       "(21613, 21)"
      ]
     },
     "execution_count": 7,
     "metadata": {},
     "output_type": "execute_result"
    }
   ],
   "source": [
    "data.shape"
   ]
  },
  {
   "cell_type": "code",
   "execution_count": 9,
   "id": "55c5521c-88c3-4b86-9c03-708586660911",
   "metadata": {},
   "outputs": [
    {
     "data": {
      "text/html": [
       "<div>\n",
       "<style scoped>\n",
       "    .dataframe tbody tr th:only-of-type {\n",
       "        vertical-align: middle;\n",
       "    }\n",
       "\n",
       "    .dataframe tbody tr th {\n",
       "        vertical-align: top;\n",
       "    }\n",
       "\n",
       "    .dataframe thead th {\n",
       "        text-align: right;\n",
       "    }\n",
       "</style>\n",
       "<table border=\"1\" class=\"dataframe\">\n",
       "  <thead>\n",
       "    <tr style=\"text-align: right;\">\n",
       "      <th></th>\n",
       "      <th>id</th>\n",
       "      <th>price</th>\n",
       "      <th>bedrooms</th>\n",
       "      <th>bathrooms</th>\n",
       "      <th>sqft_living</th>\n",
       "      <th>sqft_lot</th>\n",
       "      <th>floors</th>\n",
       "      <th>waterfront</th>\n",
       "      <th>view</th>\n",
       "      <th>condition</th>\n",
       "      <th>grade</th>\n",
       "      <th>sqft_above</th>\n",
       "      <th>sqft_basement</th>\n",
       "      <th>yr_built</th>\n",
       "      <th>yr_renovated</th>\n",
       "      <th>zipcode</th>\n",
       "      <th>lat</th>\n",
       "      <th>long</th>\n",
       "      <th>sqft_living15</th>\n",
       "      <th>sqft_lot15</th>\n",
       "    </tr>\n",
       "  </thead>\n",
       "  <tbody>\n",
       "    <tr>\n",
       "      <th>count</th>\n",
       "      <td>2.161300e+04</td>\n",
       "      <td>2.161300e+04</td>\n",
       "      <td>21613.000000</td>\n",
       "      <td>21613.000000</td>\n",
       "      <td>21613.000000</td>\n",
       "      <td>2.161300e+04</td>\n",
       "      <td>21613.000000</td>\n",
       "      <td>21613.000000</td>\n",
       "      <td>21613.000000</td>\n",
       "      <td>21613.000000</td>\n",
       "      <td>21613.000000</td>\n",
       "      <td>21613.000000</td>\n",
       "      <td>21613.000000</td>\n",
       "      <td>21613.000000</td>\n",
       "      <td>21613.000000</td>\n",
       "      <td>21613.000000</td>\n",
       "      <td>21613.000000</td>\n",
       "      <td>21613.000000</td>\n",
       "      <td>21613.000000</td>\n",
       "      <td>21613.000000</td>\n",
       "    </tr>\n",
       "    <tr>\n",
       "      <th>mean</th>\n",
       "      <td>4.580302e+09</td>\n",
       "      <td>5.400881e+05</td>\n",
       "      <td>3.370842</td>\n",
       "      <td>2.114757</td>\n",
       "      <td>2079.899736</td>\n",
       "      <td>1.510697e+04</td>\n",
       "      <td>1.494309</td>\n",
       "      <td>0.007542</td>\n",
       "      <td>0.234303</td>\n",
       "      <td>3.409430</td>\n",
       "      <td>7.656873</td>\n",
       "      <td>1788.390691</td>\n",
       "      <td>291.509045</td>\n",
       "      <td>1971.005136</td>\n",
       "      <td>84.402258</td>\n",
       "      <td>98077.939805</td>\n",
       "      <td>47.560053</td>\n",
       "      <td>-122.213896</td>\n",
       "      <td>1986.552492</td>\n",
       "      <td>12768.455652</td>\n",
       "    </tr>\n",
       "    <tr>\n",
       "      <th>std</th>\n",
       "      <td>2.876566e+09</td>\n",
       "      <td>3.671272e+05</td>\n",
       "      <td>0.930062</td>\n",
       "      <td>0.770163</td>\n",
       "      <td>918.440897</td>\n",
       "      <td>4.142051e+04</td>\n",
       "      <td>0.539989</td>\n",
       "      <td>0.086517</td>\n",
       "      <td>0.766318</td>\n",
       "      <td>0.650743</td>\n",
       "      <td>1.175459</td>\n",
       "      <td>828.090978</td>\n",
       "      <td>442.575043</td>\n",
       "      <td>29.373411</td>\n",
       "      <td>401.679240</td>\n",
       "      <td>53.505026</td>\n",
       "      <td>0.138564</td>\n",
       "      <td>0.140828</td>\n",
       "      <td>685.391304</td>\n",
       "      <td>27304.179631</td>\n",
       "    </tr>\n",
       "    <tr>\n",
       "      <th>min</th>\n",
       "      <td>1.000102e+06</td>\n",
       "      <td>7.500000e+04</td>\n",
       "      <td>0.000000</td>\n",
       "      <td>0.000000</td>\n",
       "      <td>290.000000</td>\n",
       "      <td>5.200000e+02</td>\n",
       "      <td>1.000000</td>\n",
       "      <td>0.000000</td>\n",
       "      <td>0.000000</td>\n",
       "      <td>1.000000</td>\n",
       "      <td>1.000000</td>\n",
       "      <td>290.000000</td>\n",
       "      <td>0.000000</td>\n",
       "      <td>1900.000000</td>\n",
       "      <td>0.000000</td>\n",
       "      <td>98001.000000</td>\n",
       "      <td>47.155900</td>\n",
       "      <td>-122.519000</td>\n",
       "      <td>399.000000</td>\n",
       "      <td>651.000000</td>\n",
       "    </tr>\n",
       "    <tr>\n",
       "      <th>25%</th>\n",
       "      <td>2.123049e+09</td>\n",
       "      <td>3.219500e+05</td>\n",
       "      <td>3.000000</td>\n",
       "      <td>1.750000</td>\n",
       "      <td>1427.000000</td>\n",
       "      <td>5.040000e+03</td>\n",
       "      <td>1.000000</td>\n",
       "      <td>0.000000</td>\n",
       "      <td>0.000000</td>\n",
       "      <td>3.000000</td>\n",
       "      <td>7.000000</td>\n",
       "      <td>1190.000000</td>\n",
       "      <td>0.000000</td>\n",
       "      <td>1951.000000</td>\n",
       "      <td>0.000000</td>\n",
       "      <td>98033.000000</td>\n",
       "      <td>47.471000</td>\n",
       "      <td>-122.328000</td>\n",
       "      <td>1490.000000</td>\n",
       "      <td>5100.000000</td>\n",
       "    </tr>\n",
       "    <tr>\n",
       "      <th>50%</th>\n",
       "      <td>3.904930e+09</td>\n",
       "      <td>4.500000e+05</td>\n",
       "      <td>3.000000</td>\n",
       "      <td>2.250000</td>\n",
       "      <td>1910.000000</td>\n",
       "      <td>7.618000e+03</td>\n",
       "      <td>1.500000</td>\n",
       "      <td>0.000000</td>\n",
       "      <td>0.000000</td>\n",
       "      <td>3.000000</td>\n",
       "      <td>7.000000</td>\n",
       "      <td>1560.000000</td>\n",
       "      <td>0.000000</td>\n",
       "      <td>1975.000000</td>\n",
       "      <td>0.000000</td>\n",
       "      <td>98065.000000</td>\n",
       "      <td>47.571800</td>\n",
       "      <td>-122.230000</td>\n",
       "      <td>1840.000000</td>\n",
       "      <td>7620.000000</td>\n",
       "    </tr>\n",
       "    <tr>\n",
       "      <th>75%</th>\n",
       "      <td>7.308900e+09</td>\n",
       "      <td>6.450000e+05</td>\n",
       "      <td>4.000000</td>\n",
       "      <td>2.500000</td>\n",
       "      <td>2550.000000</td>\n",
       "      <td>1.068800e+04</td>\n",
       "      <td>2.000000</td>\n",
       "      <td>0.000000</td>\n",
       "      <td>0.000000</td>\n",
       "      <td>4.000000</td>\n",
       "      <td>8.000000</td>\n",
       "      <td>2210.000000</td>\n",
       "      <td>560.000000</td>\n",
       "      <td>1997.000000</td>\n",
       "      <td>0.000000</td>\n",
       "      <td>98118.000000</td>\n",
       "      <td>47.678000</td>\n",
       "      <td>-122.125000</td>\n",
       "      <td>2360.000000</td>\n",
       "      <td>10083.000000</td>\n",
       "    </tr>\n",
       "    <tr>\n",
       "      <th>max</th>\n",
       "      <td>9.900000e+09</td>\n",
       "      <td>7.700000e+06</td>\n",
       "      <td>33.000000</td>\n",
       "      <td>8.000000</td>\n",
       "      <td>13540.000000</td>\n",
       "      <td>1.651359e+06</td>\n",
       "      <td>3.500000</td>\n",
       "      <td>1.000000</td>\n",
       "      <td>4.000000</td>\n",
       "      <td>5.000000</td>\n",
       "      <td>13.000000</td>\n",
       "      <td>9410.000000</td>\n",
       "      <td>4820.000000</td>\n",
       "      <td>2015.000000</td>\n",
       "      <td>2015.000000</td>\n",
       "      <td>98199.000000</td>\n",
       "      <td>47.777600</td>\n",
       "      <td>-121.315000</td>\n",
       "      <td>6210.000000</td>\n",
       "      <td>871200.000000</td>\n",
       "    </tr>\n",
       "  </tbody>\n",
       "</table>\n",
       "</div>"
      ],
      "text/plain": [
       "                 id         price      bedrooms     bathrooms   sqft_living  \\\n",
       "count  2.161300e+04  2.161300e+04  21613.000000  21613.000000  21613.000000   \n",
       "mean   4.580302e+09  5.400881e+05      3.370842      2.114757   2079.899736   \n",
       "std    2.876566e+09  3.671272e+05      0.930062      0.770163    918.440897   \n",
       "min    1.000102e+06  7.500000e+04      0.000000      0.000000    290.000000   \n",
       "25%    2.123049e+09  3.219500e+05      3.000000      1.750000   1427.000000   \n",
       "50%    3.904930e+09  4.500000e+05      3.000000      2.250000   1910.000000   \n",
       "75%    7.308900e+09  6.450000e+05      4.000000      2.500000   2550.000000   \n",
       "max    9.900000e+09  7.700000e+06     33.000000      8.000000  13540.000000   \n",
       "\n",
       "           sqft_lot        floors    waterfront          view     condition  \\\n",
       "count  2.161300e+04  21613.000000  21613.000000  21613.000000  21613.000000   \n",
       "mean   1.510697e+04      1.494309      0.007542      0.234303      3.409430   \n",
       "std    4.142051e+04      0.539989      0.086517      0.766318      0.650743   \n",
       "min    5.200000e+02      1.000000      0.000000      0.000000      1.000000   \n",
       "25%    5.040000e+03      1.000000      0.000000      0.000000      3.000000   \n",
       "50%    7.618000e+03      1.500000      0.000000      0.000000      3.000000   \n",
       "75%    1.068800e+04      2.000000      0.000000      0.000000      4.000000   \n",
       "max    1.651359e+06      3.500000      1.000000      4.000000      5.000000   \n",
       "\n",
       "              grade    sqft_above  sqft_basement      yr_built  yr_renovated  \\\n",
       "count  21613.000000  21613.000000   21613.000000  21613.000000  21613.000000   \n",
       "mean       7.656873   1788.390691     291.509045   1971.005136     84.402258   \n",
       "std        1.175459    828.090978     442.575043     29.373411    401.679240   \n",
       "min        1.000000    290.000000       0.000000   1900.000000      0.000000   \n",
       "25%        7.000000   1190.000000       0.000000   1951.000000      0.000000   \n",
       "50%        7.000000   1560.000000       0.000000   1975.000000      0.000000   \n",
       "75%        8.000000   2210.000000     560.000000   1997.000000      0.000000   \n",
       "max       13.000000   9410.000000    4820.000000   2015.000000   2015.000000   \n",
       "\n",
       "            zipcode           lat          long  sqft_living15     sqft_lot15  \n",
       "count  21613.000000  21613.000000  21613.000000   21613.000000   21613.000000  \n",
       "mean   98077.939805     47.560053   -122.213896    1986.552492   12768.455652  \n",
       "std       53.505026      0.138564      0.140828     685.391304   27304.179631  \n",
       "min    98001.000000     47.155900   -122.519000     399.000000     651.000000  \n",
       "25%    98033.000000     47.471000   -122.328000    1490.000000    5100.000000  \n",
       "50%    98065.000000     47.571800   -122.230000    1840.000000    7620.000000  \n",
       "75%    98118.000000     47.678000   -122.125000    2360.000000   10083.000000  \n",
       "max    98199.000000     47.777600   -121.315000    6210.000000  871200.000000  "
      ]
     },
     "execution_count": 9,
     "metadata": {},
     "output_type": "execute_result"
    }
   ],
   "source": [
    "data.describe()"
   ]
  },
  {
   "cell_type": "code",
   "execution_count": 11,
   "id": "b805b3b4-eed4-41ea-8ddd-a990dd59ffea",
   "metadata": {},
   "outputs": [
    {
     "data": {
      "text/html": [
       "<div>\n",
       "<style scoped>\n",
       "    .dataframe tbody tr th:only-of-type {\n",
       "        vertical-align: middle;\n",
       "    }\n",
       "\n",
       "    .dataframe tbody tr th {\n",
       "        vertical-align: top;\n",
       "    }\n",
       "\n",
       "    .dataframe thead th {\n",
       "        text-align: right;\n",
       "    }\n",
       "</style>\n",
       "<table border=\"1\" class=\"dataframe\">\n",
       "  <thead>\n",
       "    <tr style=\"text-align: right;\">\n",
       "      <th></th>\n",
       "      <th>id</th>\n",
       "      <th>date</th>\n",
       "      <th>price</th>\n",
       "      <th>bedrooms</th>\n",
       "      <th>bathrooms</th>\n",
       "      <th>sqft_living</th>\n",
       "      <th>sqft_lot</th>\n",
       "      <th>floors</th>\n",
       "      <th>waterfront</th>\n",
       "      <th>view</th>\n",
       "      <th>...</th>\n",
       "      <th>grade</th>\n",
       "      <th>sqft_above</th>\n",
       "      <th>sqft_basement</th>\n",
       "      <th>yr_built</th>\n",
       "      <th>yr_renovated</th>\n",
       "      <th>zipcode</th>\n",
       "      <th>lat</th>\n",
       "      <th>long</th>\n",
       "      <th>sqft_living15</th>\n",
       "      <th>sqft_lot15</th>\n",
       "    </tr>\n",
       "  </thead>\n",
       "  <tbody>\n",
       "    <tr>\n",
       "      <th>0</th>\n",
       "      <td>7129300520</td>\n",
       "      <td>20141013T000000</td>\n",
       "      <td>221900.0</td>\n",
       "      <td>3</td>\n",
       "      <td>1.00</td>\n",
       "      <td>1180</td>\n",
       "      <td>5650</td>\n",
       "      <td>1.0</td>\n",
       "      <td>0</td>\n",
       "      <td>0</td>\n",
       "      <td>...</td>\n",
       "      <td>7</td>\n",
       "      <td>1180</td>\n",
       "      <td>0</td>\n",
       "      <td>1955</td>\n",
       "      <td>0</td>\n",
       "      <td>98178</td>\n",
       "      <td>47.5112</td>\n",
       "      <td>-122.257</td>\n",
       "      <td>1340</td>\n",
       "      <td>5650</td>\n",
       "    </tr>\n",
       "    <tr>\n",
       "      <th>1</th>\n",
       "      <td>6414100192</td>\n",
       "      <td>20141209T000000</td>\n",
       "      <td>538000.0</td>\n",
       "      <td>3</td>\n",
       "      <td>2.25</td>\n",
       "      <td>2570</td>\n",
       "      <td>7242</td>\n",
       "      <td>2.0</td>\n",
       "      <td>0</td>\n",
       "      <td>0</td>\n",
       "      <td>...</td>\n",
       "      <td>7</td>\n",
       "      <td>2170</td>\n",
       "      <td>400</td>\n",
       "      <td>1951</td>\n",
       "      <td>1991</td>\n",
       "      <td>98125</td>\n",
       "      <td>47.7210</td>\n",
       "      <td>-122.319</td>\n",
       "      <td>1690</td>\n",
       "      <td>7639</td>\n",
       "    </tr>\n",
       "    <tr>\n",
       "      <th>2</th>\n",
       "      <td>5631500400</td>\n",
       "      <td>20150225T000000</td>\n",
       "      <td>180000.0</td>\n",
       "      <td>2</td>\n",
       "      <td>1.00</td>\n",
       "      <td>770</td>\n",
       "      <td>10000</td>\n",
       "      <td>1.0</td>\n",
       "      <td>0</td>\n",
       "      <td>0</td>\n",
       "      <td>...</td>\n",
       "      <td>6</td>\n",
       "      <td>770</td>\n",
       "      <td>0</td>\n",
       "      <td>1933</td>\n",
       "      <td>0</td>\n",
       "      <td>98028</td>\n",
       "      <td>47.7379</td>\n",
       "      <td>-122.233</td>\n",
       "      <td>2720</td>\n",
       "      <td>8062</td>\n",
       "    </tr>\n",
       "    <tr>\n",
       "      <th>3</th>\n",
       "      <td>2487200875</td>\n",
       "      <td>20141209T000000</td>\n",
       "      <td>604000.0</td>\n",
       "      <td>4</td>\n",
       "      <td>3.00</td>\n",
       "      <td>1960</td>\n",
       "      <td>5000</td>\n",
       "      <td>1.0</td>\n",
       "      <td>0</td>\n",
       "      <td>0</td>\n",
       "      <td>...</td>\n",
       "      <td>7</td>\n",
       "      <td>1050</td>\n",
       "      <td>910</td>\n",
       "      <td>1965</td>\n",
       "      <td>0</td>\n",
       "      <td>98136</td>\n",
       "      <td>47.5208</td>\n",
       "      <td>-122.393</td>\n",
       "      <td>1360</td>\n",
       "      <td>5000</td>\n",
       "    </tr>\n",
       "    <tr>\n",
       "      <th>4</th>\n",
       "      <td>1954400510</td>\n",
       "      <td>20150218T000000</td>\n",
       "      <td>510000.0</td>\n",
       "      <td>3</td>\n",
       "      <td>2.00</td>\n",
       "      <td>1680</td>\n",
       "      <td>8080</td>\n",
       "      <td>1.0</td>\n",
       "      <td>0</td>\n",
       "      <td>0</td>\n",
       "      <td>...</td>\n",
       "      <td>8</td>\n",
       "      <td>1680</td>\n",
       "      <td>0</td>\n",
       "      <td>1987</td>\n",
       "      <td>0</td>\n",
       "      <td>98074</td>\n",
       "      <td>47.6168</td>\n",
       "      <td>-122.045</td>\n",
       "      <td>1800</td>\n",
       "      <td>7503</td>\n",
       "    </tr>\n",
       "  </tbody>\n",
       "</table>\n",
       "<p>5 rows × 21 columns</p>\n",
       "</div>"
      ],
      "text/plain": [
       "           id             date     price  bedrooms  bathrooms  sqft_living  \\\n",
       "0  7129300520  20141013T000000  221900.0         3       1.00         1180   \n",
       "1  6414100192  20141209T000000  538000.0         3       2.25         2570   \n",
       "2  5631500400  20150225T000000  180000.0         2       1.00          770   \n",
       "3  2487200875  20141209T000000  604000.0         4       3.00         1960   \n",
       "4  1954400510  20150218T000000  510000.0         3       2.00         1680   \n",
       "\n",
       "   sqft_lot  floors  waterfront  view  ...  grade  sqft_above  sqft_basement  \\\n",
       "0      5650     1.0           0     0  ...      7        1180              0   \n",
       "1      7242     2.0           0     0  ...      7        2170            400   \n",
       "2     10000     1.0           0     0  ...      6         770              0   \n",
       "3      5000     1.0           0     0  ...      7        1050            910   \n",
       "4      8080     1.0           0     0  ...      8        1680              0   \n",
       "\n",
       "   yr_built  yr_renovated  zipcode      lat     long  sqft_living15  \\\n",
       "0      1955             0    98178  47.5112 -122.257           1340   \n",
       "1      1951          1991    98125  47.7210 -122.319           1690   \n",
       "2      1933             0    98028  47.7379 -122.233           2720   \n",
       "3      1965             0    98136  47.5208 -122.393           1360   \n",
       "4      1987             0    98074  47.6168 -122.045           1800   \n",
       "\n",
       "   sqft_lot15  \n",
       "0        5650  \n",
       "1        7639  \n",
       "2        8062  \n",
       "3        5000  \n",
       "4        7503  \n",
       "\n",
       "[5 rows x 21 columns]"
      ]
     },
     "execution_count": 11,
     "metadata": {},
     "output_type": "execute_result"
    }
   ],
   "source": [
    "data.head()"
   ]
  },
  {
   "cell_type": "code",
   "execution_count": 13,
   "id": "58351490-411c-433f-a5f9-2e2c0a5f736d",
   "metadata": {},
   "outputs": [
    {
     "data": {
      "text/html": [
       "<div>\n",
       "<style scoped>\n",
       "    .dataframe tbody tr th:only-of-type {\n",
       "        vertical-align: middle;\n",
       "    }\n",
       "\n",
       "    .dataframe tbody tr th {\n",
       "        vertical-align: top;\n",
       "    }\n",
       "\n",
       "    .dataframe thead th {\n",
       "        text-align: right;\n",
       "    }\n",
       "</style>\n",
       "<table border=\"1\" class=\"dataframe\">\n",
       "  <thead>\n",
       "    <tr style=\"text-align: right;\">\n",
       "      <th></th>\n",
       "      <th>id</th>\n",
       "      <th>date</th>\n",
       "      <th>price</th>\n",
       "      <th>bedrooms</th>\n",
       "      <th>bathrooms</th>\n",
       "      <th>sqft_living</th>\n",
       "      <th>sqft_lot</th>\n",
       "      <th>floors</th>\n",
       "      <th>waterfront</th>\n",
       "      <th>view</th>\n",
       "      <th>...</th>\n",
       "      <th>grade</th>\n",
       "      <th>sqft_above</th>\n",
       "      <th>sqft_basement</th>\n",
       "      <th>yr_built</th>\n",
       "      <th>yr_renovated</th>\n",
       "      <th>zipcode</th>\n",
       "      <th>lat</th>\n",
       "      <th>long</th>\n",
       "      <th>sqft_living15</th>\n",
       "      <th>sqft_lot15</th>\n",
       "    </tr>\n",
       "  </thead>\n",
       "  <tbody>\n",
       "    <tr>\n",
       "      <th>21608</th>\n",
       "      <td>263000018</td>\n",
       "      <td>20140521T000000</td>\n",
       "      <td>360000.0</td>\n",
       "      <td>3</td>\n",
       "      <td>2.50</td>\n",
       "      <td>1530</td>\n",
       "      <td>1131</td>\n",
       "      <td>3.0</td>\n",
       "      <td>0</td>\n",
       "      <td>0</td>\n",
       "      <td>...</td>\n",
       "      <td>8</td>\n",
       "      <td>1530</td>\n",
       "      <td>0</td>\n",
       "      <td>2009</td>\n",
       "      <td>0</td>\n",
       "      <td>98103</td>\n",
       "      <td>47.6993</td>\n",
       "      <td>-122.346</td>\n",
       "      <td>1530</td>\n",
       "      <td>1509</td>\n",
       "    </tr>\n",
       "    <tr>\n",
       "      <th>21609</th>\n",
       "      <td>6600060120</td>\n",
       "      <td>20150223T000000</td>\n",
       "      <td>400000.0</td>\n",
       "      <td>4</td>\n",
       "      <td>2.50</td>\n",
       "      <td>2310</td>\n",
       "      <td>5813</td>\n",
       "      <td>2.0</td>\n",
       "      <td>0</td>\n",
       "      <td>0</td>\n",
       "      <td>...</td>\n",
       "      <td>8</td>\n",
       "      <td>2310</td>\n",
       "      <td>0</td>\n",
       "      <td>2014</td>\n",
       "      <td>0</td>\n",
       "      <td>98146</td>\n",
       "      <td>47.5107</td>\n",
       "      <td>-122.362</td>\n",
       "      <td>1830</td>\n",
       "      <td>7200</td>\n",
       "    </tr>\n",
       "    <tr>\n",
       "      <th>21610</th>\n",
       "      <td>1523300141</td>\n",
       "      <td>20140623T000000</td>\n",
       "      <td>402101.0</td>\n",
       "      <td>2</td>\n",
       "      <td>0.75</td>\n",
       "      <td>1020</td>\n",
       "      <td>1350</td>\n",
       "      <td>2.0</td>\n",
       "      <td>0</td>\n",
       "      <td>0</td>\n",
       "      <td>...</td>\n",
       "      <td>7</td>\n",
       "      <td>1020</td>\n",
       "      <td>0</td>\n",
       "      <td>2009</td>\n",
       "      <td>0</td>\n",
       "      <td>98144</td>\n",
       "      <td>47.5944</td>\n",
       "      <td>-122.299</td>\n",
       "      <td>1020</td>\n",
       "      <td>2007</td>\n",
       "    </tr>\n",
       "    <tr>\n",
       "      <th>21611</th>\n",
       "      <td>291310100</td>\n",
       "      <td>20150116T000000</td>\n",
       "      <td>400000.0</td>\n",
       "      <td>3</td>\n",
       "      <td>2.50</td>\n",
       "      <td>1600</td>\n",
       "      <td>2388</td>\n",
       "      <td>2.0</td>\n",
       "      <td>0</td>\n",
       "      <td>0</td>\n",
       "      <td>...</td>\n",
       "      <td>8</td>\n",
       "      <td>1600</td>\n",
       "      <td>0</td>\n",
       "      <td>2004</td>\n",
       "      <td>0</td>\n",
       "      <td>98027</td>\n",
       "      <td>47.5345</td>\n",
       "      <td>-122.069</td>\n",
       "      <td>1410</td>\n",
       "      <td>1287</td>\n",
       "    </tr>\n",
       "    <tr>\n",
       "      <th>21612</th>\n",
       "      <td>1523300157</td>\n",
       "      <td>20141015T000000</td>\n",
       "      <td>325000.0</td>\n",
       "      <td>2</td>\n",
       "      <td>0.75</td>\n",
       "      <td>1020</td>\n",
       "      <td>1076</td>\n",
       "      <td>2.0</td>\n",
       "      <td>0</td>\n",
       "      <td>0</td>\n",
       "      <td>...</td>\n",
       "      <td>7</td>\n",
       "      <td>1020</td>\n",
       "      <td>0</td>\n",
       "      <td>2008</td>\n",
       "      <td>0</td>\n",
       "      <td>98144</td>\n",
       "      <td>47.5941</td>\n",
       "      <td>-122.299</td>\n",
       "      <td>1020</td>\n",
       "      <td>1357</td>\n",
       "    </tr>\n",
       "  </tbody>\n",
       "</table>\n",
       "<p>5 rows × 21 columns</p>\n",
       "</div>"
      ],
      "text/plain": [
       "               id             date     price  bedrooms  bathrooms  \\\n",
       "21608   263000018  20140521T000000  360000.0         3       2.50   \n",
       "21609  6600060120  20150223T000000  400000.0         4       2.50   \n",
       "21610  1523300141  20140623T000000  402101.0         2       0.75   \n",
       "21611   291310100  20150116T000000  400000.0         3       2.50   \n",
       "21612  1523300157  20141015T000000  325000.0         2       0.75   \n",
       "\n",
       "       sqft_living  sqft_lot  floors  waterfront  view  ...  grade  \\\n",
       "21608         1530      1131     3.0           0     0  ...      8   \n",
       "21609         2310      5813     2.0           0     0  ...      8   \n",
       "21610         1020      1350     2.0           0     0  ...      7   \n",
       "21611         1600      2388     2.0           0     0  ...      8   \n",
       "21612         1020      1076     2.0           0     0  ...      7   \n",
       "\n",
       "       sqft_above  sqft_basement  yr_built  yr_renovated  zipcode      lat  \\\n",
       "21608        1530              0      2009             0    98103  47.6993   \n",
       "21609        2310              0      2014             0    98146  47.5107   \n",
       "21610        1020              0      2009             0    98144  47.5944   \n",
       "21611        1600              0      2004             0    98027  47.5345   \n",
       "21612        1020              0      2008             0    98144  47.5941   \n",
       "\n",
       "          long  sqft_living15  sqft_lot15  \n",
       "21608 -122.346           1530        1509  \n",
       "21609 -122.362           1830        7200  \n",
       "21610 -122.299           1020        2007  \n",
       "21611 -122.069           1410        1287  \n",
       "21612 -122.299           1020        1357  \n",
       "\n",
       "[5 rows x 21 columns]"
      ]
     },
     "execution_count": 13,
     "metadata": {},
     "output_type": "execute_result"
    }
   ],
   "source": [
    "data.tail()"
   ]
  },
  {
   "cell_type": "code",
   "execution_count": 15,
   "id": "56ad3231-01ee-431a-ba66-5f6070b1f712",
   "metadata": {},
   "outputs": [],
   "source": [
    "data['date_fixed'] = pd.to_datetime(data['date'], format=\"%Y%m%dT%H%M%S\").dt.date"
   ]
  },
  {
   "cell_type": "code",
   "execution_count": 17,
   "id": "d259d4fb-e4b9-4e67-835d-72ff130435b5",
   "metadata": {},
   "outputs": [],
   "source": [
    "data.drop(columns = \"date\", inplace = True)"
   ]
  },
  {
   "cell_type": "code",
   "execution_count": 19,
   "id": "8879af04-82f7-4b63-9a86-92059f970f82",
   "metadata": {},
   "outputs": [],
   "source": [
    "data = data.rename(columns={'date_fixed': 'date'})\n"
   ]
  },
  {
   "cell_type": "code",
   "execution_count": 21,
   "id": "bfe2ad83-7d7a-4999-a244-1b53d87301dd",
   "metadata": {},
   "outputs": [
    {
     "data": {
      "text/html": [
       "<div>\n",
       "<style scoped>\n",
       "    .dataframe tbody tr th:only-of-type {\n",
       "        vertical-align: middle;\n",
       "    }\n",
       "\n",
       "    .dataframe tbody tr th {\n",
       "        vertical-align: top;\n",
       "    }\n",
       "\n",
       "    .dataframe thead th {\n",
       "        text-align: right;\n",
       "    }\n",
       "</style>\n",
       "<table border=\"1\" class=\"dataframe\">\n",
       "  <thead>\n",
       "    <tr style=\"text-align: right;\">\n",
       "      <th></th>\n",
       "      <th>id</th>\n",
       "      <th>price</th>\n",
       "      <th>bedrooms</th>\n",
       "      <th>bathrooms</th>\n",
       "      <th>sqft_living</th>\n",
       "      <th>sqft_lot</th>\n",
       "      <th>floors</th>\n",
       "      <th>waterfront</th>\n",
       "      <th>view</th>\n",
       "      <th>condition</th>\n",
       "      <th>...</th>\n",
       "      <th>sqft_above</th>\n",
       "      <th>sqft_basement</th>\n",
       "      <th>yr_built</th>\n",
       "      <th>yr_renovated</th>\n",
       "      <th>zipcode</th>\n",
       "      <th>lat</th>\n",
       "      <th>long</th>\n",
       "      <th>sqft_living15</th>\n",
       "      <th>sqft_lot15</th>\n",
       "      <th>date</th>\n",
       "    </tr>\n",
       "  </thead>\n",
       "  <tbody>\n",
       "    <tr>\n",
       "      <th>0</th>\n",
       "      <td>7129300520</td>\n",
       "      <td>221900.0</td>\n",
       "      <td>3</td>\n",
       "      <td>1.00</td>\n",
       "      <td>1180</td>\n",
       "      <td>5650</td>\n",
       "      <td>1.0</td>\n",
       "      <td>0</td>\n",
       "      <td>0</td>\n",
       "      <td>3</td>\n",
       "      <td>...</td>\n",
       "      <td>1180</td>\n",
       "      <td>0</td>\n",
       "      <td>1955</td>\n",
       "      <td>0</td>\n",
       "      <td>98178</td>\n",
       "      <td>47.5112</td>\n",
       "      <td>-122.257</td>\n",
       "      <td>1340</td>\n",
       "      <td>5650</td>\n",
       "      <td>2014-10-13</td>\n",
       "    </tr>\n",
       "    <tr>\n",
       "      <th>1</th>\n",
       "      <td>6414100192</td>\n",
       "      <td>538000.0</td>\n",
       "      <td>3</td>\n",
       "      <td>2.25</td>\n",
       "      <td>2570</td>\n",
       "      <td>7242</td>\n",
       "      <td>2.0</td>\n",
       "      <td>0</td>\n",
       "      <td>0</td>\n",
       "      <td>3</td>\n",
       "      <td>...</td>\n",
       "      <td>2170</td>\n",
       "      <td>400</td>\n",
       "      <td>1951</td>\n",
       "      <td>1991</td>\n",
       "      <td>98125</td>\n",
       "      <td>47.7210</td>\n",
       "      <td>-122.319</td>\n",
       "      <td>1690</td>\n",
       "      <td>7639</td>\n",
       "      <td>2014-12-09</td>\n",
       "    </tr>\n",
       "    <tr>\n",
       "      <th>2</th>\n",
       "      <td>5631500400</td>\n",
       "      <td>180000.0</td>\n",
       "      <td>2</td>\n",
       "      <td>1.00</td>\n",
       "      <td>770</td>\n",
       "      <td>10000</td>\n",
       "      <td>1.0</td>\n",
       "      <td>0</td>\n",
       "      <td>0</td>\n",
       "      <td>3</td>\n",
       "      <td>...</td>\n",
       "      <td>770</td>\n",
       "      <td>0</td>\n",
       "      <td>1933</td>\n",
       "      <td>0</td>\n",
       "      <td>98028</td>\n",
       "      <td>47.7379</td>\n",
       "      <td>-122.233</td>\n",
       "      <td>2720</td>\n",
       "      <td>8062</td>\n",
       "      <td>2015-02-25</td>\n",
       "    </tr>\n",
       "    <tr>\n",
       "      <th>3</th>\n",
       "      <td>2487200875</td>\n",
       "      <td>604000.0</td>\n",
       "      <td>4</td>\n",
       "      <td>3.00</td>\n",
       "      <td>1960</td>\n",
       "      <td>5000</td>\n",
       "      <td>1.0</td>\n",
       "      <td>0</td>\n",
       "      <td>0</td>\n",
       "      <td>5</td>\n",
       "      <td>...</td>\n",
       "      <td>1050</td>\n",
       "      <td>910</td>\n",
       "      <td>1965</td>\n",
       "      <td>0</td>\n",
       "      <td>98136</td>\n",
       "      <td>47.5208</td>\n",
       "      <td>-122.393</td>\n",
       "      <td>1360</td>\n",
       "      <td>5000</td>\n",
       "      <td>2014-12-09</td>\n",
       "    </tr>\n",
       "    <tr>\n",
       "      <th>4</th>\n",
       "      <td>1954400510</td>\n",
       "      <td>510000.0</td>\n",
       "      <td>3</td>\n",
       "      <td>2.00</td>\n",
       "      <td>1680</td>\n",
       "      <td>8080</td>\n",
       "      <td>1.0</td>\n",
       "      <td>0</td>\n",
       "      <td>0</td>\n",
       "      <td>3</td>\n",
       "      <td>...</td>\n",
       "      <td>1680</td>\n",
       "      <td>0</td>\n",
       "      <td>1987</td>\n",
       "      <td>0</td>\n",
       "      <td>98074</td>\n",
       "      <td>47.6168</td>\n",
       "      <td>-122.045</td>\n",
       "      <td>1800</td>\n",
       "      <td>7503</td>\n",
       "      <td>2015-02-18</td>\n",
       "    </tr>\n",
       "  </tbody>\n",
       "</table>\n",
       "<p>5 rows × 21 columns</p>\n",
       "</div>"
      ],
      "text/plain": [
       "           id     price  bedrooms  bathrooms  sqft_living  sqft_lot  floors  \\\n",
       "0  7129300520  221900.0         3       1.00         1180      5650     1.0   \n",
       "1  6414100192  538000.0         3       2.25         2570      7242     2.0   \n",
       "2  5631500400  180000.0         2       1.00          770     10000     1.0   \n",
       "3  2487200875  604000.0         4       3.00         1960      5000     1.0   \n",
       "4  1954400510  510000.0         3       2.00         1680      8080     1.0   \n",
       "\n",
       "   waterfront  view  condition  ...  sqft_above  sqft_basement  yr_built  \\\n",
       "0           0     0          3  ...        1180              0      1955   \n",
       "1           0     0          3  ...        2170            400      1951   \n",
       "2           0     0          3  ...         770              0      1933   \n",
       "3           0     0          5  ...        1050            910      1965   \n",
       "4           0     0          3  ...        1680              0      1987   \n",
       "\n",
       "   yr_renovated  zipcode      lat     long  sqft_living15  sqft_lot15  \\\n",
       "0             0    98178  47.5112 -122.257           1340        5650   \n",
       "1          1991    98125  47.7210 -122.319           1690        7639   \n",
       "2             0    98028  47.7379 -122.233           2720        8062   \n",
       "3             0    98136  47.5208 -122.393           1360        5000   \n",
       "4             0    98074  47.6168 -122.045           1800        7503   \n",
       "\n",
       "         date  \n",
       "0  2014-10-13  \n",
       "1  2014-12-09  \n",
       "2  2015-02-25  \n",
       "3  2014-12-09  \n",
       "4  2015-02-18  \n",
       "\n",
       "[5 rows x 21 columns]"
      ]
     },
     "execution_count": 21,
     "metadata": {},
     "output_type": "execute_result"
    }
   ],
   "source": [
    "data.head()"
   ]
  },
  {
   "cell_type": "markdown",
   "id": "d8b48891-ee37-4703-8161-e1a12cd3e726",
   "metadata": {},
   "source": [
    "<h2 style=\"color: #FF6347;\">Columns standardization</h2>"
   ]
  },
  {
   "cell_type": "code",
   "execution_count": 23,
   "id": "2e089817-2ed3-4188-a592-fe35d0d328d4",
   "metadata": {
    "scrolled": true
   },
   "outputs": [
    {
     "data": {
      "text/html": [
       "<div>\n",
       "<style scoped>\n",
       "    .dataframe tbody tr th:only-of-type {\n",
       "        vertical-align: middle;\n",
       "    }\n",
       "\n",
       "    .dataframe tbody tr th {\n",
       "        vertical-align: top;\n",
       "    }\n",
       "\n",
       "    .dataframe thead th {\n",
       "        text-align: right;\n",
       "    }\n",
       "</style>\n",
       "<table border=\"1\" class=\"dataframe\">\n",
       "  <thead>\n",
       "    <tr style=\"text-align: right;\">\n",
       "      <th></th>\n",
       "      <th>id</th>\n",
       "      <th>price</th>\n",
       "      <th>bedrooms</th>\n",
       "      <th>bathrooms</th>\n",
       "      <th>sqft_living</th>\n",
       "      <th>sqft_lot</th>\n",
       "      <th>floors</th>\n",
       "      <th>waterfront</th>\n",
       "      <th>view</th>\n",
       "      <th>condition</th>\n",
       "      <th>...</th>\n",
       "      <th>sqft_above</th>\n",
       "      <th>sqft_basement</th>\n",
       "      <th>yr_built</th>\n",
       "      <th>yr_renovated</th>\n",
       "      <th>zipcode</th>\n",
       "      <th>lat</th>\n",
       "      <th>long</th>\n",
       "      <th>sqft_living15</th>\n",
       "      <th>sqft_lot15</th>\n",
       "      <th>date</th>\n",
       "    </tr>\n",
       "  </thead>\n",
       "  <tbody>\n",
       "    <tr>\n",
       "      <th>0</th>\n",
       "      <td>7129300520</td>\n",
       "      <td>221900.0</td>\n",
       "      <td>3</td>\n",
       "      <td>1.00</td>\n",
       "      <td>1180</td>\n",
       "      <td>5650</td>\n",
       "      <td>1.0</td>\n",
       "      <td>0</td>\n",
       "      <td>0</td>\n",
       "      <td>3</td>\n",
       "      <td>...</td>\n",
       "      <td>1180</td>\n",
       "      <td>0</td>\n",
       "      <td>1955</td>\n",
       "      <td>0</td>\n",
       "      <td>98178</td>\n",
       "      <td>47.5112</td>\n",
       "      <td>-122.257</td>\n",
       "      <td>1340</td>\n",
       "      <td>5650</td>\n",
       "      <td>2014-10-13</td>\n",
       "    </tr>\n",
       "    <tr>\n",
       "      <th>1</th>\n",
       "      <td>6414100192</td>\n",
       "      <td>538000.0</td>\n",
       "      <td>3</td>\n",
       "      <td>2.25</td>\n",
       "      <td>2570</td>\n",
       "      <td>7242</td>\n",
       "      <td>2.0</td>\n",
       "      <td>0</td>\n",
       "      <td>0</td>\n",
       "      <td>3</td>\n",
       "      <td>...</td>\n",
       "      <td>2170</td>\n",
       "      <td>400</td>\n",
       "      <td>1951</td>\n",
       "      <td>1991</td>\n",
       "      <td>98125</td>\n",
       "      <td>47.7210</td>\n",
       "      <td>-122.319</td>\n",
       "      <td>1690</td>\n",
       "      <td>7639</td>\n",
       "      <td>2014-12-09</td>\n",
       "    </tr>\n",
       "    <tr>\n",
       "      <th>2</th>\n",
       "      <td>5631500400</td>\n",
       "      <td>180000.0</td>\n",
       "      <td>2</td>\n",
       "      <td>1.00</td>\n",
       "      <td>770</td>\n",
       "      <td>10000</td>\n",
       "      <td>1.0</td>\n",
       "      <td>0</td>\n",
       "      <td>0</td>\n",
       "      <td>3</td>\n",
       "      <td>...</td>\n",
       "      <td>770</td>\n",
       "      <td>0</td>\n",
       "      <td>1933</td>\n",
       "      <td>0</td>\n",
       "      <td>98028</td>\n",
       "      <td>47.7379</td>\n",
       "      <td>-122.233</td>\n",
       "      <td>2720</td>\n",
       "      <td>8062</td>\n",
       "      <td>2015-02-25</td>\n",
       "    </tr>\n",
       "    <tr>\n",
       "      <th>3</th>\n",
       "      <td>2487200875</td>\n",
       "      <td>604000.0</td>\n",
       "      <td>4</td>\n",
       "      <td>3.00</td>\n",
       "      <td>1960</td>\n",
       "      <td>5000</td>\n",
       "      <td>1.0</td>\n",
       "      <td>0</td>\n",
       "      <td>0</td>\n",
       "      <td>5</td>\n",
       "      <td>...</td>\n",
       "      <td>1050</td>\n",
       "      <td>910</td>\n",
       "      <td>1965</td>\n",
       "      <td>0</td>\n",
       "      <td>98136</td>\n",
       "      <td>47.5208</td>\n",
       "      <td>-122.393</td>\n",
       "      <td>1360</td>\n",
       "      <td>5000</td>\n",
       "      <td>2014-12-09</td>\n",
       "    </tr>\n",
       "    <tr>\n",
       "      <th>4</th>\n",
       "      <td>1954400510</td>\n",
       "      <td>510000.0</td>\n",
       "      <td>3</td>\n",
       "      <td>2.00</td>\n",
       "      <td>1680</td>\n",
       "      <td>8080</td>\n",
       "      <td>1.0</td>\n",
       "      <td>0</td>\n",
       "      <td>0</td>\n",
       "      <td>3</td>\n",
       "      <td>...</td>\n",
       "      <td>1680</td>\n",
       "      <td>0</td>\n",
       "      <td>1987</td>\n",
       "      <td>0</td>\n",
       "      <td>98074</td>\n",
       "      <td>47.6168</td>\n",
       "      <td>-122.045</td>\n",
       "      <td>1800</td>\n",
       "      <td>7503</td>\n",
       "      <td>2015-02-18</td>\n",
       "    </tr>\n",
       "  </tbody>\n",
       "</table>\n",
       "<p>5 rows × 21 columns</p>\n",
       "</div>"
      ],
      "text/plain": [
       "           id     price  bedrooms  bathrooms  sqft_living  sqft_lot  floors  \\\n",
       "0  7129300520  221900.0         3       1.00         1180      5650     1.0   \n",
       "1  6414100192  538000.0         3       2.25         2570      7242     2.0   \n",
       "2  5631500400  180000.0         2       1.00          770     10000     1.0   \n",
       "3  2487200875  604000.0         4       3.00         1960      5000     1.0   \n",
       "4  1954400510  510000.0         3       2.00         1680      8080     1.0   \n",
       "\n",
       "   waterfront  view  condition  ...  sqft_above  sqft_basement  yr_built  \\\n",
       "0           0     0          3  ...        1180              0      1955   \n",
       "1           0     0          3  ...        2170            400      1951   \n",
       "2           0     0          3  ...         770              0      1933   \n",
       "3           0     0          5  ...        1050            910      1965   \n",
       "4           0     0          3  ...        1680              0      1987   \n",
       "\n",
       "   yr_renovated  zipcode      lat     long  sqft_living15  sqft_lot15  \\\n",
       "0             0    98178  47.5112 -122.257           1340        5650   \n",
       "1          1991    98125  47.7210 -122.319           1690        7639   \n",
       "2             0    98028  47.7379 -122.233           2720        8062   \n",
       "3             0    98136  47.5208 -122.393           1360        5000   \n",
       "4             0    98074  47.6168 -122.045           1800        7503   \n",
       "\n",
       "         date  \n",
       "0  2014-10-13  \n",
       "1  2014-12-09  \n",
       "2  2015-02-25  \n",
       "3  2014-12-09  \n",
       "4  2015-02-18  \n",
       "\n",
       "[5 rows x 21 columns]"
      ]
     },
     "execution_count": 23,
     "metadata": {},
     "output_type": "execute_result"
    }
   ],
   "source": [
    "data.columns = [column.lower().replace(\" \", \"_\") for column in data.columns]\n",
    "data.head()"
   ]
  },
  {
   "cell_type": "markdown",
   "id": "3eb630ba-f48a-48ea-9e1f-bb3db5284cc9",
   "metadata": {},
   "source": [
    "<h2 style=\"color: #FF6347;\">Copy as best practices</h2>"
   ]
  },
  {
   "cell_type": "code",
   "execution_count": 25,
   "id": "f6c9f6f0-9585-4508-affb-f6b0edfaf153",
   "metadata": {},
   "outputs": [
    {
     "data": {
      "text/html": [
       "<div>\n",
       "<style scoped>\n",
       "    .dataframe tbody tr th:only-of-type {\n",
       "        vertical-align: middle;\n",
       "    }\n",
       "\n",
       "    .dataframe tbody tr th {\n",
       "        vertical-align: top;\n",
       "    }\n",
       "\n",
       "    .dataframe thead th {\n",
       "        text-align: right;\n",
       "    }\n",
       "</style>\n",
       "<table border=\"1\" class=\"dataframe\">\n",
       "  <thead>\n",
       "    <tr style=\"text-align: right;\">\n",
       "      <th></th>\n",
       "      <th>id</th>\n",
       "      <th>price</th>\n",
       "      <th>bedrooms</th>\n",
       "      <th>bathrooms</th>\n",
       "      <th>sqft_living</th>\n",
       "      <th>sqft_lot</th>\n",
       "      <th>floors</th>\n",
       "      <th>waterfront</th>\n",
       "      <th>view</th>\n",
       "      <th>condition</th>\n",
       "      <th>...</th>\n",
       "      <th>sqft_above</th>\n",
       "      <th>sqft_basement</th>\n",
       "      <th>yr_built</th>\n",
       "      <th>yr_renovated</th>\n",
       "      <th>zipcode</th>\n",
       "      <th>lat</th>\n",
       "      <th>long</th>\n",
       "      <th>sqft_living15</th>\n",
       "      <th>sqft_lot15</th>\n",
       "      <th>date</th>\n",
       "    </tr>\n",
       "  </thead>\n",
       "  <tbody>\n",
       "    <tr>\n",
       "      <th>0</th>\n",
       "      <td>7129300520</td>\n",
       "      <td>221900.0</td>\n",
       "      <td>3</td>\n",
       "      <td>1.00</td>\n",
       "      <td>1180</td>\n",
       "      <td>5650</td>\n",
       "      <td>1.0</td>\n",
       "      <td>0</td>\n",
       "      <td>0</td>\n",
       "      <td>3</td>\n",
       "      <td>...</td>\n",
       "      <td>1180</td>\n",
       "      <td>0</td>\n",
       "      <td>1955</td>\n",
       "      <td>0</td>\n",
       "      <td>98178</td>\n",
       "      <td>47.5112</td>\n",
       "      <td>-122.257</td>\n",
       "      <td>1340</td>\n",
       "      <td>5650</td>\n",
       "      <td>2014-10-13</td>\n",
       "    </tr>\n",
       "    <tr>\n",
       "      <th>1</th>\n",
       "      <td>6414100192</td>\n",
       "      <td>538000.0</td>\n",
       "      <td>3</td>\n",
       "      <td>2.25</td>\n",
       "      <td>2570</td>\n",
       "      <td>7242</td>\n",
       "      <td>2.0</td>\n",
       "      <td>0</td>\n",
       "      <td>0</td>\n",
       "      <td>3</td>\n",
       "      <td>...</td>\n",
       "      <td>2170</td>\n",
       "      <td>400</td>\n",
       "      <td>1951</td>\n",
       "      <td>1991</td>\n",
       "      <td>98125</td>\n",
       "      <td>47.7210</td>\n",
       "      <td>-122.319</td>\n",
       "      <td>1690</td>\n",
       "      <td>7639</td>\n",
       "      <td>2014-12-09</td>\n",
       "    </tr>\n",
       "    <tr>\n",
       "      <th>2</th>\n",
       "      <td>5631500400</td>\n",
       "      <td>180000.0</td>\n",
       "      <td>2</td>\n",
       "      <td>1.00</td>\n",
       "      <td>770</td>\n",
       "      <td>10000</td>\n",
       "      <td>1.0</td>\n",
       "      <td>0</td>\n",
       "      <td>0</td>\n",
       "      <td>3</td>\n",
       "      <td>...</td>\n",
       "      <td>770</td>\n",
       "      <td>0</td>\n",
       "      <td>1933</td>\n",
       "      <td>0</td>\n",
       "      <td>98028</td>\n",
       "      <td>47.7379</td>\n",
       "      <td>-122.233</td>\n",
       "      <td>2720</td>\n",
       "      <td>8062</td>\n",
       "      <td>2015-02-25</td>\n",
       "    </tr>\n",
       "    <tr>\n",
       "      <th>3</th>\n",
       "      <td>2487200875</td>\n",
       "      <td>604000.0</td>\n",
       "      <td>4</td>\n",
       "      <td>3.00</td>\n",
       "      <td>1960</td>\n",
       "      <td>5000</td>\n",
       "      <td>1.0</td>\n",
       "      <td>0</td>\n",
       "      <td>0</td>\n",
       "      <td>5</td>\n",
       "      <td>...</td>\n",
       "      <td>1050</td>\n",
       "      <td>910</td>\n",
       "      <td>1965</td>\n",
       "      <td>0</td>\n",
       "      <td>98136</td>\n",
       "      <td>47.5208</td>\n",
       "      <td>-122.393</td>\n",
       "      <td>1360</td>\n",
       "      <td>5000</td>\n",
       "      <td>2014-12-09</td>\n",
       "    </tr>\n",
       "    <tr>\n",
       "      <th>4</th>\n",
       "      <td>1954400510</td>\n",
       "      <td>510000.0</td>\n",
       "      <td>3</td>\n",
       "      <td>2.00</td>\n",
       "      <td>1680</td>\n",
       "      <td>8080</td>\n",
       "      <td>1.0</td>\n",
       "      <td>0</td>\n",
       "      <td>0</td>\n",
       "      <td>3</td>\n",
       "      <td>...</td>\n",
       "      <td>1680</td>\n",
       "      <td>0</td>\n",
       "      <td>1987</td>\n",
       "      <td>0</td>\n",
       "      <td>98074</td>\n",
       "      <td>47.6168</td>\n",
       "      <td>-122.045</td>\n",
       "      <td>1800</td>\n",
       "      <td>7503</td>\n",
       "      <td>2015-02-18</td>\n",
       "    </tr>\n",
       "    <tr>\n",
       "      <th>...</th>\n",
       "      <td>...</td>\n",
       "      <td>...</td>\n",
       "      <td>...</td>\n",
       "      <td>...</td>\n",
       "      <td>...</td>\n",
       "      <td>...</td>\n",
       "      <td>...</td>\n",
       "      <td>...</td>\n",
       "      <td>...</td>\n",
       "      <td>...</td>\n",
       "      <td>...</td>\n",
       "      <td>...</td>\n",
       "      <td>...</td>\n",
       "      <td>...</td>\n",
       "      <td>...</td>\n",
       "      <td>...</td>\n",
       "      <td>...</td>\n",
       "      <td>...</td>\n",
       "      <td>...</td>\n",
       "      <td>...</td>\n",
       "      <td>...</td>\n",
       "    </tr>\n",
       "    <tr>\n",
       "      <th>21608</th>\n",
       "      <td>263000018</td>\n",
       "      <td>360000.0</td>\n",
       "      <td>3</td>\n",
       "      <td>2.50</td>\n",
       "      <td>1530</td>\n",
       "      <td>1131</td>\n",
       "      <td>3.0</td>\n",
       "      <td>0</td>\n",
       "      <td>0</td>\n",
       "      <td>3</td>\n",
       "      <td>...</td>\n",
       "      <td>1530</td>\n",
       "      <td>0</td>\n",
       "      <td>2009</td>\n",
       "      <td>0</td>\n",
       "      <td>98103</td>\n",
       "      <td>47.6993</td>\n",
       "      <td>-122.346</td>\n",
       "      <td>1530</td>\n",
       "      <td>1509</td>\n",
       "      <td>2014-05-21</td>\n",
       "    </tr>\n",
       "    <tr>\n",
       "      <th>21609</th>\n",
       "      <td>6600060120</td>\n",
       "      <td>400000.0</td>\n",
       "      <td>4</td>\n",
       "      <td>2.50</td>\n",
       "      <td>2310</td>\n",
       "      <td>5813</td>\n",
       "      <td>2.0</td>\n",
       "      <td>0</td>\n",
       "      <td>0</td>\n",
       "      <td>3</td>\n",
       "      <td>...</td>\n",
       "      <td>2310</td>\n",
       "      <td>0</td>\n",
       "      <td>2014</td>\n",
       "      <td>0</td>\n",
       "      <td>98146</td>\n",
       "      <td>47.5107</td>\n",
       "      <td>-122.362</td>\n",
       "      <td>1830</td>\n",
       "      <td>7200</td>\n",
       "      <td>2015-02-23</td>\n",
       "    </tr>\n",
       "    <tr>\n",
       "      <th>21610</th>\n",
       "      <td>1523300141</td>\n",
       "      <td>402101.0</td>\n",
       "      <td>2</td>\n",
       "      <td>0.75</td>\n",
       "      <td>1020</td>\n",
       "      <td>1350</td>\n",
       "      <td>2.0</td>\n",
       "      <td>0</td>\n",
       "      <td>0</td>\n",
       "      <td>3</td>\n",
       "      <td>...</td>\n",
       "      <td>1020</td>\n",
       "      <td>0</td>\n",
       "      <td>2009</td>\n",
       "      <td>0</td>\n",
       "      <td>98144</td>\n",
       "      <td>47.5944</td>\n",
       "      <td>-122.299</td>\n",
       "      <td>1020</td>\n",
       "      <td>2007</td>\n",
       "      <td>2014-06-23</td>\n",
       "    </tr>\n",
       "    <tr>\n",
       "      <th>21611</th>\n",
       "      <td>291310100</td>\n",
       "      <td>400000.0</td>\n",
       "      <td>3</td>\n",
       "      <td>2.50</td>\n",
       "      <td>1600</td>\n",
       "      <td>2388</td>\n",
       "      <td>2.0</td>\n",
       "      <td>0</td>\n",
       "      <td>0</td>\n",
       "      <td>3</td>\n",
       "      <td>...</td>\n",
       "      <td>1600</td>\n",
       "      <td>0</td>\n",
       "      <td>2004</td>\n",
       "      <td>0</td>\n",
       "      <td>98027</td>\n",
       "      <td>47.5345</td>\n",
       "      <td>-122.069</td>\n",
       "      <td>1410</td>\n",
       "      <td>1287</td>\n",
       "      <td>2015-01-16</td>\n",
       "    </tr>\n",
       "    <tr>\n",
       "      <th>21612</th>\n",
       "      <td>1523300157</td>\n",
       "      <td>325000.0</td>\n",
       "      <td>2</td>\n",
       "      <td>0.75</td>\n",
       "      <td>1020</td>\n",
       "      <td>1076</td>\n",
       "      <td>2.0</td>\n",
       "      <td>0</td>\n",
       "      <td>0</td>\n",
       "      <td>3</td>\n",
       "      <td>...</td>\n",
       "      <td>1020</td>\n",
       "      <td>0</td>\n",
       "      <td>2008</td>\n",
       "      <td>0</td>\n",
       "      <td>98144</td>\n",
       "      <td>47.5941</td>\n",
       "      <td>-122.299</td>\n",
       "      <td>1020</td>\n",
       "      <td>1357</td>\n",
       "      <td>2014-10-15</td>\n",
       "    </tr>\n",
       "  </tbody>\n",
       "</table>\n",
       "<p>21613 rows × 21 columns</p>\n",
       "</div>"
      ],
      "text/plain": [
       "               id     price  bedrooms  bathrooms  sqft_living  sqft_lot  \\\n",
       "0      7129300520  221900.0         3       1.00         1180      5650   \n",
       "1      6414100192  538000.0         3       2.25         2570      7242   \n",
       "2      5631500400  180000.0         2       1.00          770     10000   \n",
       "3      2487200875  604000.0         4       3.00         1960      5000   \n",
       "4      1954400510  510000.0         3       2.00         1680      8080   \n",
       "...           ...       ...       ...        ...          ...       ...   \n",
       "21608   263000018  360000.0         3       2.50         1530      1131   \n",
       "21609  6600060120  400000.0         4       2.50         2310      5813   \n",
       "21610  1523300141  402101.0         2       0.75         1020      1350   \n",
       "21611   291310100  400000.0         3       2.50         1600      2388   \n",
       "21612  1523300157  325000.0         2       0.75         1020      1076   \n",
       "\n",
       "       floors  waterfront  view  condition  ...  sqft_above  sqft_basement  \\\n",
       "0         1.0           0     0          3  ...        1180              0   \n",
       "1         2.0           0     0          3  ...        2170            400   \n",
       "2         1.0           0     0          3  ...         770              0   \n",
       "3         1.0           0     0          5  ...        1050            910   \n",
       "4         1.0           0     0          3  ...        1680              0   \n",
       "...       ...         ...   ...        ...  ...         ...            ...   \n",
       "21608     3.0           0     0          3  ...        1530              0   \n",
       "21609     2.0           0     0          3  ...        2310              0   \n",
       "21610     2.0           0     0          3  ...        1020              0   \n",
       "21611     2.0           0     0          3  ...        1600              0   \n",
       "21612     2.0           0     0          3  ...        1020              0   \n",
       "\n",
       "       yr_built  yr_renovated  zipcode      lat     long  sqft_living15  \\\n",
       "0          1955             0    98178  47.5112 -122.257           1340   \n",
       "1          1951          1991    98125  47.7210 -122.319           1690   \n",
       "2          1933             0    98028  47.7379 -122.233           2720   \n",
       "3          1965             0    98136  47.5208 -122.393           1360   \n",
       "4          1987             0    98074  47.6168 -122.045           1800   \n",
       "...         ...           ...      ...      ...      ...            ...   \n",
       "21608      2009             0    98103  47.6993 -122.346           1530   \n",
       "21609      2014             0    98146  47.5107 -122.362           1830   \n",
       "21610      2009             0    98144  47.5944 -122.299           1020   \n",
       "21611      2004             0    98027  47.5345 -122.069           1410   \n",
       "21612      2008             0    98144  47.5941 -122.299           1020   \n",
       "\n",
       "       sqft_lot15        date  \n",
       "0            5650  2014-10-13  \n",
       "1            7639  2014-12-09  \n",
       "2            8062  2015-02-25  \n",
       "3            5000  2014-12-09  \n",
       "4            7503  2015-02-18  \n",
       "...           ...         ...  \n",
       "21608        1509  2014-05-21  \n",
       "21609        7200  2015-02-23  \n",
       "21610        2007  2014-06-23  \n",
       "21611        1287  2015-01-16  \n",
       "21612        1357  2014-10-15  \n",
       "\n",
       "[21613 rows x 21 columns]"
      ]
     },
     "execution_count": 25,
     "metadata": {},
     "output_type": "execute_result"
    }
   ],
   "source": [
    "df = data.copy()\n",
    "df"
   ]
  },
  {
   "cell_type": "markdown",
   "id": "5d49f64a-fec3-4e34-ba8c-b677ee6f8dea",
   "metadata": {
    "jp-MarkdownHeadingCollapsed": true
   },
   "source": [
    "<h1 style=\"color: #FF8C00;\">02 | Data Cleaning </h1>"
   ]
  },
  {
   "cell_type": "markdown",
   "id": "f634a8a5-eca8-4b98-b8f5-7a7df089930e",
   "metadata": {},
   "source": [
    "<h2 style=\"color: #FF6347;\">Dealing with Data types</h2>"
   ]
  },
  {
   "cell_type": "code",
   "execution_count": 27,
   "id": "8c87abd6-2ae5-4836-baf6-b0cc4d57b341",
   "metadata": {},
   "outputs": [
    {
     "data": {
      "text/plain": [
       "id                 int64\n",
       "price            float64\n",
       "bedrooms           int64\n",
       "bathrooms        float64\n",
       "sqft_living        int64\n",
       "sqft_lot           int64\n",
       "floors           float64\n",
       "waterfront         int64\n",
       "view               int64\n",
       "condition          int64\n",
       "grade              int64\n",
       "sqft_above         int64\n",
       "sqft_basement      int64\n",
       "yr_built           int64\n",
       "yr_renovated       int64\n",
       "zipcode            int64\n",
       "lat              float64\n",
       "long             float64\n",
       "sqft_living15      int64\n",
       "sqft_lot15         int64\n",
       "date              object\n",
       "dtype: object"
      ]
     },
     "execution_count": 27,
     "metadata": {},
     "output_type": "execute_result"
    }
   ],
   "source": [
    "df.dtypes"
   ]
  },
  {
   "cell_type": "markdown",
   "id": "16fbd97d-315d-4d0c-8047-94e5d0d347d0",
   "metadata": {},
   "source": [
    "<h2 style=\"color: #FF6347;\">Dealing with NaN values</h2>"
   ]
  },
  {
   "cell_type": "code",
   "execution_count": 29,
   "id": "7d392b9e-8aa0-4daf-82a1-beabca77a1e2",
   "metadata": {},
   "outputs": [
    {
     "data": {
      "text/plain": [
       "id               0\n",
       "price            0\n",
       "bedrooms         0\n",
       "bathrooms        0\n",
       "sqft_living      0\n",
       "sqft_lot         0\n",
       "floors           0\n",
       "waterfront       0\n",
       "view             0\n",
       "condition        0\n",
       "grade            0\n",
       "sqft_above       0\n",
       "sqft_basement    0\n",
       "yr_built         0\n",
       "yr_renovated     0\n",
       "zipcode          0\n",
       "lat              0\n",
       "long             0\n",
       "sqft_living15    0\n",
       "sqft_lot15       0\n",
       "date             0\n",
       "dtype: int64"
      ]
     },
     "execution_count": 29,
     "metadata": {},
     "output_type": "execute_result"
    }
   ],
   "source": [
    "df.isna().sum()"
   ]
  },
  {
   "cell_type": "markdown",
   "id": "117d66d5-74ab-4239-99a8-22013274f288",
   "metadata": {},
   "source": [
    "<h2 style=\"color: #FF6347;\">Dealing with Duplicates</h2>"
   ]
  },
  {
   "cell_type": "code",
   "execution_count": 31,
   "id": "24fc3f11-5439-4e1c-9899-2411e3a42984",
   "metadata": {},
   "outputs": [
    {
     "data": {
      "text/plain": [
       "0"
      ]
     },
     "execution_count": 31,
     "metadata": {},
     "output_type": "execute_result"
    }
   ],
   "source": [
    "df.duplicated().sum()"
   ]
  },
  {
   "cell_type": "markdown",
   "id": "06dafd9b-33c3-4452-a887-a88c1e9345f9",
   "metadata": {},
   "source": [
    "<h2 style=\"color: #FF6347;\">Dealing with Empty Spaces</h2>"
   ]
  },
  {
   "cell_type": "code",
   "execution_count": 33,
   "id": "8fe4423a-0b36-4b76-9df9-a7a4a5de529c",
   "metadata": {},
   "outputs": [
    {
     "data": {
      "text/plain": [
       "id               0\n",
       "price            0\n",
       "bedrooms         0\n",
       "bathrooms        0\n",
       "sqft_living      0\n",
       "sqft_lot         0\n",
       "floors           0\n",
       "waterfront       0\n",
       "view             0\n",
       "condition        0\n",
       "grade            0\n",
       "sqft_above       0\n",
       "sqft_basement    0\n",
       "yr_built         0\n",
       "yr_renovated     0\n",
       "zipcode          0\n",
       "lat              0\n",
       "long             0\n",
       "sqft_living15    0\n",
       "sqft_lot15       0\n",
       "date             0\n",
       "dtype: int64"
      ]
     },
     "execution_count": 33,
     "metadata": {},
     "output_type": "execute_result"
    }
   ],
   "source": [
    "#EQ significa equal.\n",
    "data.eq(\" \").sum()"
   ]
  },
  {
   "cell_type": "markdown",
   "id": "9d9eaba5-7ccd-40c6-905f-861ace7e0334",
   "metadata": {
    "jp-MarkdownHeadingCollapsed": true
   },
   "source": [
    "<h1 style=\"color: #FF8C00;\">03 | EDA </h1>"
   ]
  },
  {
   "cell_type": "markdown",
   "id": "f24e26ae-bde3-48a5-9533-2c0daed67632",
   "metadata": {},
   "source": [
    "<h2 style=\"color: #FF6347;\">Descriptive Statistics</h2>"
   ]
  },
  {
   "cell_type": "code",
   "execution_count": 35,
   "id": "01a3bca8-58b8-4ef0-9881-f9e66b036ca8",
   "metadata": {
    "scrolled": true
   },
   "outputs": [
    {
     "data": {
      "text/html": [
       "<div>\n",
       "<style scoped>\n",
       "    .dataframe tbody tr th:only-of-type {\n",
       "        vertical-align: middle;\n",
       "    }\n",
       "\n",
       "    .dataframe tbody tr th {\n",
       "        vertical-align: top;\n",
       "    }\n",
       "\n",
       "    .dataframe thead th {\n",
       "        text-align: right;\n",
       "    }\n",
       "</style>\n",
       "<table border=\"1\" class=\"dataframe\">\n",
       "  <thead>\n",
       "    <tr style=\"text-align: right;\">\n",
       "      <th></th>\n",
       "      <th>count</th>\n",
       "      <th>mean</th>\n",
       "      <th>std</th>\n",
       "      <th>min</th>\n",
       "      <th>25%</th>\n",
       "      <th>50%</th>\n",
       "      <th>75%</th>\n",
       "      <th>max</th>\n",
       "    </tr>\n",
       "  </thead>\n",
       "  <tbody>\n",
       "    <tr>\n",
       "      <th>id</th>\n",
       "      <td>21613.0</td>\n",
       "      <td>4.580302e+09</td>\n",
       "      <td>2.876566e+09</td>\n",
       "      <td>1.000102e+06</td>\n",
       "      <td>2.123049e+09</td>\n",
       "      <td>3.904930e+09</td>\n",
       "      <td>7.308900e+09</td>\n",
       "      <td>9.900000e+09</td>\n",
       "    </tr>\n",
       "    <tr>\n",
       "      <th>price</th>\n",
       "      <td>21613.0</td>\n",
       "      <td>5.400881e+05</td>\n",
       "      <td>3.671272e+05</td>\n",
       "      <td>7.500000e+04</td>\n",
       "      <td>3.219500e+05</td>\n",
       "      <td>4.500000e+05</td>\n",
       "      <td>6.450000e+05</td>\n",
       "      <td>7.700000e+06</td>\n",
       "    </tr>\n",
       "    <tr>\n",
       "      <th>bedrooms</th>\n",
       "      <td>21613.0</td>\n",
       "      <td>3.370842e+00</td>\n",
       "      <td>9.300618e-01</td>\n",
       "      <td>0.000000e+00</td>\n",
       "      <td>3.000000e+00</td>\n",
       "      <td>3.000000e+00</td>\n",
       "      <td>4.000000e+00</td>\n",
       "      <td>3.300000e+01</td>\n",
       "    </tr>\n",
       "    <tr>\n",
       "      <th>bathrooms</th>\n",
       "      <td>21613.0</td>\n",
       "      <td>2.114757e+00</td>\n",
       "      <td>7.701632e-01</td>\n",
       "      <td>0.000000e+00</td>\n",
       "      <td>1.750000e+00</td>\n",
       "      <td>2.250000e+00</td>\n",
       "      <td>2.500000e+00</td>\n",
       "      <td>8.000000e+00</td>\n",
       "    </tr>\n",
       "    <tr>\n",
       "      <th>sqft_living</th>\n",
       "      <td>21613.0</td>\n",
       "      <td>2.079900e+03</td>\n",
       "      <td>9.184409e+02</td>\n",
       "      <td>2.900000e+02</td>\n",
       "      <td>1.427000e+03</td>\n",
       "      <td>1.910000e+03</td>\n",
       "      <td>2.550000e+03</td>\n",
       "      <td>1.354000e+04</td>\n",
       "    </tr>\n",
       "    <tr>\n",
       "      <th>sqft_lot</th>\n",
       "      <td>21613.0</td>\n",
       "      <td>1.510697e+04</td>\n",
       "      <td>4.142051e+04</td>\n",
       "      <td>5.200000e+02</td>\n",
       "      <td>5.040000e+03</td>\n",
       "      <td>7.618000e+03</td>\n",
       "      <td>1.068800e+04</td>\n",
       "      <td>1.651359e+06</td>\n",
       "    </tr>\n",
       "    <tr>\n",
       "      <th>floors</th>\n",
       "      <td>21613.0</td>\n",
       "      <td>1.494309e+00</td>\n",
       "      <td>5.399889e-01</td>\n",
       "      <td>1.000000e+00</td>\n",
       "      <td>1.000000e+00</td>\n",
       "      <td>1.500000e+00</td>\n",
       "      <td>2.000000e+00</td>\n",
       "      <td>3.500000e+00</td>\n",
       "    </tr>\n",
       "    <tr>\n",
       "      <th>waterfront</th>\n",
       "      <td>21613.0</td>\n",
       "      <td>7.541757e-03</td>\n",
       "      <td>8.651720e-02</td>\n",
       "      <td>0.000000e+00</td>\n",
       "      <td>0.000000e+00</td>\n",
       "      <td>0.000000e+00</td>\n",
       "      <td>0.000000e+00</td>\n",
       "      <td>1.000000e+00</td>\n",
       "    </tr>\n",
       "    <tr>\n",
       "      <th>view</th>\n",
       "      <td>21613.0</td>\n",
       "      <td>2.343034e-01</td>\n",
       "      <td>7.663176e-01</td>\n",
       "      <td>0.000000e+00</td>\n",
       "      <td>0.000000e+00</td>\n",
       "      <td>0.000000e+00</td>\n",
       "      <td>0.000000e+00</td>\n",
       "      <td>4.000000e+00</td>\n",
       "    </tr>\n",
       "    <tr>\n",
       "      <th>condition</th>\n",
       "      <td>21613.0</td>\n",
       "      <td>3.409430e+00</td>\n",
       "      <td>6.507430e-01</td>\n",
       "      <td>1.000000e+00</td>\n",
       "      <td>3.000000e+00</td>\n",
       "      <td>3.000000e+00</td>\n",
       "      <td>4.000000e+00</td>\n",
       "      <td>5.000000e+00</td>\n",
       "    </tr>\n",
       "    <tr>\n",
       "      <th>grade</th>\n",
       "      <td>21613.0</td>\n",
       "      <td>7.656873e+00</td>\n",
       "      <td>1.175459e+00</td>\n",
       "      <td>1.000000e+00</td>\n",
       "      <td>7.000000e+00</td>\n",
       "      <td>7.000000e+00</td>\n",
       "      <td>8.000000e+00</td>\n",
       "      <td>1.300000e+01</td>\n",
       "    </tr>\n",
       "    <tr>\n",
       "      <th>sqft_above</th>\n",
       "      <td>21613.0</td>\n",
       "      <td>1.788391e+03</td>\n",
       "      <td>8.280910e+02</td>\n",
       "      <td>2.900000e+02</td>\n",
       "      <td>1.190000e+03</td>\n",
       "      <td>1.560000e+03</td>\n",
       "      <td>2.210000e+03</td>\n",
       "      <td>9.410000e+03</td>\n",
       "    </tr>\n",
       "    <tr>\n",
       "      <th>sqft_basement</th>\n",
       "      <td>21613.0</td>\n",
       "      <td>2.915090e+02</td>\n",
       "      <td>4.425750e+02</td>\n",
       "      <td>0.000000e+00</td>\n",
       "      <td>0.000000e+00</td>\n",
       "      <td>0.000000e+00</td>\n",
       "      <td>5.600000e+02</td>\n",
       "      <td>4.820000e+03</td>\n",
       "    </tr>\n",
       "    <tr>\n",
       "      <th>yr_built</th>\n",
       "      <td>21613.0</td>\n",
       "      <td>1.971005e+03</td>\n",
       "      <td>2.937341e+01</td>\n",
       "      <td>1.900000e+03</td>\n",
       "      <td>1.951000e+03</td>\n",
       "      <td>1.975000e+03</td>\n",
       "      <td>1.997000e+03</td>\n",
       "      <td>2.015000e+03</td>\n",
       "    </tr>\n",
       "    <tr>\n",
       "      <th>yr_renovated</th>\n",
       "      <td>21613.0</td>\n",
       "      <td>8.440226e+01</td>\n",
       "      <td>4.016792e+02</td>\n",
       "      <td>0.000000e+00</td>\n",
       "      <td>0.000000e+00</td>\n",
       "      <td>0.000000e+00</td>\n",
       "      <td>0.000000e+00</td>\n",
       "      <td>2.015000e+03</td>\n",
       "    </tr>\n",
       "    <tr>\n",
       "      <th>zipcode</th>\n",
       "      <td>21613.0</td>\n",
       "      <td>9.807794e+04</td>\n",
       "      <td>5.350503e+01</td>\n",
       "      <td>9.800100e+04</td>\n",
       "      <td>9.803300e+04</td>\n",
       "      <td>9.806500e+04</td>\n",
       "      <td>9.811800e+04</td>\n",
       "      <td>9.819900e+04</td>\n",
       "    </tr>\n",
       "    <tr>\n",
       "      <th>lat</th>\n",
       "      <td>21613.0</td>\n",
       "      <td>4.756005e+01</td>\n",
       "      <td>1.385637e-01</td>\n",
       "      <td>4.715590e+01</td>\n",
       "      <td>4.747100e+01</td>\n",
       "      <td>4.757180e+01</td>\n",
       "      <td>4.767800e+01</td>\n",
       "      <td>4.777760e+01</td>\n",
       "    </tr>\n",
       "    <tr>\n",
       "      <th>long</th>\n",
       "      <td>21613.0</td>\n",
       "      <td>-1.222139e+02</td>\n",
       "      <td>1.408283e-01</td>\n",
       "      <td>-1.225190e+02</td>\n",
       "      <td>-1.223280e+02</td>\n",
       "      <td>-1.222300e+02</td>\n",
       "      <td>-1.221250e+02</td>\n",
       "      <td>-1.213150e+02</td>\n",
       "    </tr>\n",
       "    <tr>\n",
       "      <th>sqft_living15</th>\n",
       "      <td>21613.0</td>\n",
       "      <td>1.986552e+03</td>\n",
       "      <td>6.853913e+02</td>\n",
       "      <td>3.990000e+02</td>\n",
       "      <td>1.490000e+03</td>\n",
       "      <td>1.840000e+03</td>\n",
       "      <td>2.360000e+03</td>\n",
       "      <td>6.210000e+03</td>\n",
       "    </tr>\n",
       "    <tr>\n",
       "      <th>sqft_lot15</th>\n",
       "      <td>21613.0</td>\n",
       "      <td>1.276846e+04</td>\n",
       "      <td>2.730418e+04</td>\n",
       "      <td>6.510000e+02</td>\n",
       "      <td>5.100000e+03</td>\n",
       "      <td>7.620000e+03</td>\n",
       "      <td>1.008300e+04</td>\n",
       "      <td>8.712000e+05</td>\n",
       "    </tr>\n",
       "  </tbody>\n",
       "</table>\n",
       "</div>"
      ],
      "text/plain": [
       "                 count          mean           std           min  \\\n",
       "id             21613.0  4.580302e+09  2.876566e+09  1.000102e+06   \n",
       "price          21613.0  5.400881e+05  3.671272e+05  7.500000e+04   \n",
       "bedrooms       21613.0  3.370842e+00  9.300618e-01  0.000000e+00   \n",
       "bathrooms      21613.0  2.114757e+00  7.701632e-01  0.000000e+00   \n",
       "sqft_living    21613.0  2.079900e+03  9.184409e+02  2.900000e+02   \n",
       "sqft_lot       21613.0  1.510697e+04  4.142051e+04  5.200000e+02   \n",
       "floors         21613.0  1.494309e+00  5.399889e-01  1.000000e+00   \n",
       "waterfront     21613.0  7.541757e-03  8.651720e-02  0.000000e+00   \n",
       "view           21613.0  2.343034e-01  7.663176e-01  0.000000e+00   \n",
       "condition      21613.0  3.409430e+00  6.507430e-01  1.000000e+00   \n",
       "grade          21613.0  7.656873e+00  1.175459e+00  1.000000e+00   \n",
       "sqft_above     21613.0  1.788391e+03  8.280910e+02  2.900000e+02   \n",
       "sqft_basement  21613.0  2.915090e+02  4.425750e+02  0.000000e+00   \n",
       "yr_built       21613.0  1.971005e+03  2.937341e+01  1.900000e+03   \n",
       "yr_renovated   21613.0  8.440226e+01  4.016792e+02  0.000000e+00   \n",
       "zipcode        21613.0  9.807794e+04  5.350503e+01  9.800100e+04   \n",
       "lat            21613.0  4.756005e+01  1.385637e-01  4.715590e+01   \n",
       "long           21613.0 -1.222139e+02  1.408283e-01 -1.225190e+02   \n",
       "sqft_living15  21613.0  1.986552e+03  6.853913e+02  3.990000e+02   \n",
       "sqft_lot15     21613.0  1.276846e+04  2.730418e+04  6.510000e+02   \n",
       "\n",
       "                        25%           50%           75%           max  \n",
       "id             2.123049e+09  3.904930e+09  7.308900e+09  9.900000e+09  \n",
       "price          3.219500e+05  4.500000e+05  6.450000e+05  7.700000e+06  \n",
       "bedrooms       3.000000e+00  3.000000e+00  4.000000e+00  3.300000e+01  \n",
       "bathrooms      1.750000e+00  2.250000e+00  2.500000e+00  8.000000e+00  \n",
       "sqft_living    1.427000e+03  1.910000e+03  2.550000e+03  1.354000e+04  \n",
       "sqft_lot       5.040000e+03  7.618000e+03  1.068800e+04  1.651359e+06  \n",
       "floors         1.000000e+00  1.500000e+00  2.000000e+00  3.500000e+00  \n",
       "waterfront     0.000000e+00  0.000000e+00  0.000000e+00  1.000000e+00  \n",
       "view           0.000000e+00  0.000000e+00  0.000000e+00  4.000000e+00  \n",
       "condition      3.000000e+00  3.000000e+00  4.000000e+00  5.000000e+00  \n",
       "grade          7.000000e+00  7.000000e+00  8.000000e+00  1.300000e+01  \n",
       "sqft_above     1.190000e+03  1.560000e+03  2.210000e+03  9.410000e+03  \n",
       "sqft_basement  0.000000e+00  0.000000e+00  5.600000e+02  4.820000e+03  \n",
       "yr_built       1.951000e+03  1.975000e+03  1.997000e+03  2.015000e+03  \n",
       "yr_renovated   0.000000e+00  0.000000e+00  0.000000e+00  2.015000e+03  \n",
       "zipcode        9.803300e+04  9.806500e+04  9.811800e+04  9.819900e+04  \n",
       "lat            4.747100e+01  4.757180e+01  4.767800e+01  4.777760e+01  \n",
       "long          -1.223280e+02 -1.222300e+02 -1.221250e+02 -1.213150e+02  \n",
       "sqft_living15  1.490000e+03  1.840000e+03  2.360000e+03  6.210000e+03  \n",
       "sqft_lot15     5.100000e+03  7.620000e+03  1.008300e+04  8.712000e+05  "
      ]
     },
     "execution_count": 35,
     "metadata": {},
     "output_type": "execute_result"
    }
   ],
   "source": [
    "df.describe().T"
   ]
  },
  {
   "cell_type": "code",
   "execution_count": 37,
   "id": "afae7699-2535-46e9-bdf5-9e7a60cd5503",
   "metadata": {},
   "outputs": [
    {
     "data": {
      "text/plain": [
       "13"
      ]
     },
     "execution_count": 37,
     "metadata": {},
     "output_type": "execute_result"
    }
   ],
   "source": [
    "#siempre sacamos un nunique a los string o integers nunca a un float\n",
    "df.bedrooms.nunique()"
   ]
  },
  {
   "cell_type": "code",
   "execution_count": 39,
   "id": "b0cedd4e-4ce5-4910-bc23-56f43ad2075f",
   "metadata": {},
   "outputs": [
    {
     "data": {
      "text/plain": [
       "2"
      ]
     },
     "execution_count": 39,
     "metadata": {},
     "output_type": "execute_result"
    }
   ],
   "source": [
    "df.waterfront.nunique()"
   ]
  },
  {
   "cell_type": "code",
   "execution_count": 41,
   "id": "22d89542-577f-421b-a51e-b96fb93ed441",
   "metadata": {},
   "outputs": [
    {
     "data": {
      "text/plain": [
       "array([0, 1], dtype=int64)"
      ]
     },
     "execution_count": 41,
     "metadata": {},
     "output_type": "execute_result"
    }
   ],
   "source": [
    "df.waterfront.unique()"
   ]
  },
  {
   "cell_type": "code",
   "execution_count": 43,
   "id": "6e62a245-8d02-4ba0-9c94-3dde7eec7dc3",
   "metadata": {},
   "outputs": [
    {
     "data": {
      "text/plain": [
       "waterfront\n",
       "0    21450\n",
       "1      163\n",
       "Name: count, dtype: int64"
      ]
     },
     "execution_count": 43,
     "metadata": {},
     "output_type": "execute_result"
    }
   ],
   "source": [
    "df.waterfront.value_counts()"
   ]
  },
  {
   "cell_type": "code",
   "execution_count": 45,
   "id": "5d5c0950-9e93-455f-85fd-c1fbf3f31b64",
   "metadata": {},
   "outputs": [
    {
     "data": {
      "text/plain": [
       "5"
      ]
     },
     "execution_count": 45,
     "metadata": {},
     "output_type": "execute_result"
    }
   ],
   "source": [
    "df.view.nunique()"
   ]
  },
  {
   "cell_type": "code",
   "execution_count": 47,
   "id": "5f4d89c8-9fd7-4fce-973f-2532b2a6ac4f",
   "metadata": {},
   "outputs": [
    {
     "data": {
      "text/plain": [
       "array([0, 3, 4, 2, 1], dtype=int64)"
      ]
     },
     "execution_count": 47,
     "metadata": {},
     "output_type": "execute_result"
    }
   ],
   "source": [
    "df.view.unique()"
   ]
  },
  {
   "cell_type": "code",
   "execution_count": 49,
   "id": "b3a9bda7-2672-4e76-a336-c7df75ed8a8d",
   "metadata": {},
   "outputs": [
    {
     "data": {
      "text/plain": [
       "view\n",
       "0    19489\n",
       "2      963\n",
       "3      510\n",
       "1      332\n",
       "4      319\n",
       "Name: count, dtype: int64"
      ]
     },
     "execution_count": 49,
     "metadata": {},
     "output_type": "execute_result"
    }
   ],
   "source": [
    "df.view.value_counts()"
   ]
  },
  {
   "cell_type": "code",
   "execution_count": 51,
   "id": "e1c9492c-6414-4c2d-99eb-6050c159e2b3",
   "metadata": {},
   "outputs": [
    {
     "data": {
      "text/plain": [
       "5"
      ]
     },
     "execution_count": 51,
     "metadata": {},
     "output_type": "execute_result"
    }
   ],
   "source": [
    "df.condition.nunique()"
   ]
  },
  {
   "cell_type": "code",
   "execution_count": 53,
   "id": "133a4ab5-71a2-4c56-b4e3-4d0c92404aa6",
   "metadata": {},
   "outputs": [
    {
     "data": {
      "text/plain": [
       "array([3, 5, 4, 1, 2], dtype=int64)"
      ]
     },
     "execution_count": 53,
     "metadata": {},
     "output_type": "execute_result"
    }
   ],
   "source": [
    "df.condition.unique()"
   ]
  },
  {
   "cell_type": "code",
   "execution_count": 55,
   "id": "a7f39785-b172-410b-bc23-b036070d30e4",
   "metadata": {},
   "outputs": [
    {
     "data": {
      "text/plain": [
       "condition\n",
       "3    14031\n",
       "4     5679\n",
       "5     1701\n",
       "2      172\n",
       "1       30\n",
       "Name: count, dtype: int64"
      ]
     },
     "execution_count": 55,
     "metadata": {},
     "output_type": "execute_result"
    }
   ],
   "source": [
    "df.condition.value_counts()"
   ]
  },
  {
   "cell_type": "markdown",
   "id": "4dc6a7d6-838b-4833-aa5a-b5ba3c518973",
   "metadata": {},
   "source": [
    "<h2 style=\"color: #FF6347;\">Checking Distributions</h2>"
   ]
  },
  {
   "cell_type": "code",
   "execution_count": 57,
   "id": "19413813-defa-4f19-98f5-0d905d41c418",
   "metadata": {},
   "outputs": [
    {
     "data": {
      "image/png": "[encoded data removed]",
      "text/plain": [
       "<Figure size 2000x1600 with 20 Axes>"
      ]
     },
     "metadata": {},
     "output_type": "display_data"
    }
   ],
   "source": [
    "color = '#FF8C00'\n",
    "\n",
    "# grid size\n",
    "nrows, ncols = 5, 4  # adjust for your number of features\n",
    "\n",
    "fig, axes = plt.subplots(nrows=nrows, ncols=ncols, figsize=(20, 16))\n",
    "\n",
    "axes = axes.flatten()\n",
    "\n",
    "# Plot each numerical feature\n",
    "for i, ax in enumerate(axes):\n",
    "    if i >= len(df.columns):\n",
    "        ax.set_visible(False)  # hide unesed plots\n",
    "        continue\n",
    "    ax.hist(df.iloc[:, i], bins=30, color=color, edgecolor='black')\n",
    "    ax.set_title(df.columns[i])\n",
    "\n",
    "plt.tight_layout()\n",
    "plt.show()"
   ]
  },
  {
   "cell_type": "markdown",
   "id": "29ccc6b1-5f5b-41cb-ab7b-bdedfc17f198",
   "metadata": {},
   "source": [
    "<h3 style=\"color: #FF6347;\">Checking our target distribution (Price)</h3>"
   ]
  },
  {
   "cell_type": "code",
   "execution_count": 59,
   "id": "b08e5a81-5a75-4900-a91c-fdd60431da4b",
   "metadata": {},
   "outputs": [
    {
     "data": {
      "text/plain": [
       "count    2.161300e+04\n",
       "mean     5.400881e+05\n",
       "std      3.671272e+05\n",
       "min      7.500000e+04\n",
       "25%      3.219500e+05\n",
       "50%      4.500000e+05\n",
       "75%      6.450000e+05\n",
       "max      7.700000e+06\n",
       "Name: price, dtype: float64"
      ]
     },
     "execution_count": 59,
     "metadata": {},
     "output_type": "execute_result"
    }
   ],
   "source": [
    "df.price.describe()"
   ]
  },
  {
   "cell_type": "code",
   "execution_count": 61,
   "id": "06232d1d-1b7a-4631-9dd2-ec9fc495eed8",
   "metadata": {},
   "outputs": [
    {
     "data": {
      "text/plain": [
       "<Axes: xlabel='price', ylabel='Count'>"
      ]
     },
     "execution_count": 61,
     "metadata": {},
     "output_type": "execute_result"
    },
    {
     "data": {
      "image/png": "[encoded data removed]",
      "text/plain": [
       "<Figure size 640x480 with 1 Axes>"
      ]
     },
     "metadata": {},
     "output_type": "display_data"
    }
   ],
   "source": [
    "sns.histplot(df[\"price\"],kde = True)"
   ]
  },
  {
   "cell_type": "code",
   "execution_count": 63,
   "id": "4957af1d-8320-431a-a7cb-0e14aecc02f5",
   "metadata": {},
   "outputs": [],
   "source": [
    "#Ponemos el ID como indice.\n",
    "df = df.set_index(\"id\") "
   ]
  },
  {
   "cell_type": "markdown",
   "id": "6cef4255-d5df-4be4-a3a0-fc04d6d0110f",
   "metadata": {},
   "source": [
    "<h2 style=\"color: #FF6347;\">Checking Outliers</h2>"
   ]
  },
  {
   "cell_type": "code",
   "execution_count": 65,
   "id": "a96812ea-59be-4e3e-9c0a-e4f96aa51294",
   "metadata": {},
   "outputs": [],
   "source": [
    "df_sinfecha = df.drop(columns=[\"date\",\"condition\"]) "
   ]
  },
  {
   "cell_type": "code",
   "execution_count": 67,
   "id": "f0931060-09fc-4561-b4b4-3f4e3012d88e",
   "metadata": {},
   "outputs": [
    {
     "data": {
      "image/png": "[encoded data removed]",
      "text/plain": [
       "<Figure size 2000x1600 with 20 Axes>"
      ]
     },
     "metadata": {},
     "output_type": "display_data"
    }
   ],
   "source": [
    "color = '#FF8C00'\n",
    "\n",
    "# grid size\n",
    "nrows, ncols = 5, 4 \n",
    "\n",
    "fig, axes = plt.subplots(nrows=nrows, ncols=ncols, figsize=(20, 16))\n",
    "\n",
    "axes = axes.flatten()\n",
    "\n",
    "for i, ax in enumerate(axes):\n",
    "    if i >= len(df_sinfecha.columns):\n",
    "        ax.set_visible(False)\n",
    "        continue\n",
    "    ax.boxplot(df_sinfecha.iloc[:, i].dropna(), vert=False, patch_artist=True, \n",
    "               boxprops=dict(facecolor=color, color='black'), \n",
    "               medianprops=dict(color='yellow'), whiskerprops=dict(color='black'), \n",
    "               capprops=dict(color='black'), flierprops=dict(marker='o', color='red', markersize=5))\n",
    "    ax.set_title(df_sinfecha.columns[i], fontsize=10)\n",
    "    ax.tick_params(axis='x', labelsize=8)\n",
    "\n",
    "plt.tight_layout()\n",
    "\n",
    "plt.show()"
   ]
  },
  {
   "cell_type": "markdown",
   "id": "8e1fa3ad-743d-4e88-99a0-740e6aa8798f",
   "metadata": {},
   "source": [
    "<h2 style=\"color: #FF6347;\">Looking for Correlations</h2>"
   ]
  },
  {
   "cell_type": "code",
   "execution_count": 72,
   "id": "88c6d26e-b8e3-4bf8-84a2-eb2022821ca1",
   "metadata": {},
   "outputs": [
    {
     "data": {
      "text/html": [
       "<div>\n",
       "<style scoped>\n",
       "    .dataframe tbody tr th:only-of-type {\n",
       "        vertical-align: middle;\n",
       "    }\n",
       "\n",
       "    .dataframe tbody tr th {\n",
       "        vertical-align: top;\n",
       "    }\n",
       "\n",
       "    .dataframe thead th {\n",
       "        text-align: right;\n",
       "    }\n",
       "</style>\n",
       "<table border=\"1\" class=\"dataframe\">\n",
       "  <thead>\n",
       "    <tr style=\"text-align: right;\">\n",
       "      <th></th>\n",
       "      <th>price</th>\n",
       "      <th>bedrooms</th>\n",
       "      <th>bathrooms</th>\n",
       "      <th>sqft_living</th>\n",
       "      <th>sqft_lot</th>\n",
       "      <th>floors</th>\n",
       "      <th>waterfront</th>\n",
       "      <th>view</th>\n",
       "      <th>grade</th>\n",
       "      <th>sqft_above</th>\n",
       "      <th>sqft_basement</th>\n",
       "      <th>yr_built</th>\n",
       "      <th>yr_renovated</th>\n",
       "      <th>zipcode</th>\n",
       "      <th>lat</th>\n",
       "      <th>long</th>\n",
       "      <th>sqft_living15</th>\n",
       "      <th>sqft_lot15</th>\n",
       "    </tr>\n",
       "  </thead>\n",
       "  <tbody>\n",
       "    <tr>\n",
       "      <th>price</th>\n",
       "      <td>1.00</td>\n",
       "      <td>0.31</td>\n",
       "      <td>0.53</td>\n",
       "      <td>0.70</td>\n",
       "      <td>0.09</td>\n",
       "      <td>0.26</td>\n",
       "      <td>0.27</td>\n",
       "      <td>0.40</td>\n",
       "      <td>0.67</td>\n",
       "      <td>0.61</td>\n",
       "      <td>0.32</td>\n",
       "      <td>0.05</td>\n",
       "      <td>0.13</td>\n",
       "      <td>-0.05</td>\n",
       "      <td>0.31</td>\n",
       "      <td>0.02</td>\n",
       "      <td>0.59</td>\n",
       "      <td>0.08</td>\n",
       "    </tr>\n",
       "    <tr>\n",
       "      <th>bedrooms</th>\n",
       "      <td>0.31</td>\n",
       "      <td>1.00</td>\n",
       "      <td>0.52</td>\n",
       "      <td>0.58</td>\n",
       "      <td>0.03</td>\n",
       "      <td>0.18</td>\n",
       "      <td>-0.01</td>\n",
       "      <td>0.08</td>\n",
       "      <td>0.36</td>\n",
       "      <td>0.48</td>\n",
       "      <td>0.30</td>\n",
       "      <td>0.15</td>\n",
       "      <td>0.02</td>\n",
       "      <td>-0.15</td>\n",
       "      <td>-0.01</td>\n",
       "      <td>0.13</td>\n",
       "      <td>0.39</td>\n",
       "      <td>0.03</td>\n",
       "    </tr>\n",
       "    <tr>\n",
       "      <th>bathrooms</th>\n",
       "      <td>0.53</td>\n",
       "      <td>0.52</td>\n",
       "      <td>1.00</td>\n",
       "      <td>0.75</td>\n",
       "      <td>0.09</td>\n",
       "      <td>0.50</td>\n",
       "      <td>0.06</td>\n",
       "      <td>0.19</td>\n",
       "      <td>0.66</td>\n",
       "      <td>0.69</td>\n",
       "      <td>0.28</td>\n",
       "      <td>0.51</td>\n",
       "      <td>0.05</td>\n",
       "      <td>-0.20</td>\n",
       "      <td>0.02</td>\n",
       "      <td>0.22</td>\n",
       "      <td>0.57</td>\n",
       "      <td>0.09</td>\n",
       "    </tr>\n",
       "    <tr>\n",
       "      <th>sqft_living</th>\n",
       "      <td>0.70</td>\n",
       "      <td>0.58</td>\n",
       "      <td>0.75</td>\n",
       "      <td>1.00</td>\n",
       "      <td>0.17</td>\n",
       "      <td>0.35</td>\n",
       "      <td>0.10</td>\n",
       "      <td>0.28</td>\n",
       "      <td>0.76</td>\n",
       "      <td>0.88</td>\n",
       "      <td>0.44</td>\n",
       "      <td>0.32</td>\n",
       "      <td>0.06</td>\n",
       "      <td>-0.20</td>\n",
       "      <td>0.05</td>\n",
       "      <td>0.24</td>\n",
       "      <td>0.76</td>\n",
       "      <td>0.18</td>\n",
       "    </tr>\n",
       "    <tr>\n",
       "      <th>sqft_lot</th>\n",
       "      <td>0.09</td>\n",
       "      <td>0.03</td>\n",
       "      <td>0.09</td>\n",
       "      <td>0.17</td>\n",
       "      <td>1.00</td>\n",
       "      <td>-0.01</td>\n",
       "      <td>0.02</td>\n",
       "      <td>0.07</td>\n",
       "      <td>0.11</td>\n",
       "      <td>0.18</td>\n",
       "      <td>0.02</td>\n",
       "      <td>0.05</td>\n",
       "      <td>0.01</td>\n",
       "      <td>-0.13</td>\n",
       "      <td>-0.09</td>\n",
       "      <td>0.23</td>\n",
       "      <td>0.14</td>\n",
       "      <td>0.72</td>\n",
       "    </tr>\n",
       "    <tr>\n",
       "      <th>floors</th>\n",
       "      <td>0.26</td>\n",
       "      <td>0.18</td>\n",
       "      <td>0.50</td>\n",
       "      <td>0.35</td>\n",
       "      <td>-0.01</td>\n",
       "      <td>1.00</td>\n",
       "      <td>0.02</td>\n",
       "      <td>0.03</td>\n",
       "      <td>0.46</td>\n",
       "      <td>0.52</td>\n",
       "      <td>-0.25</td>\n",
       "      <td>0.49</td>\n",
       "      <td>0.01</td>\n",
       "      <td>-0.06</td>\n",
       "      <td>0.05</td>\n",
       "      <td>0.13</td>\n",
       "      <td>0.28</td>\n",
       "      <td>-0.01</td>\n",
       "    </tr>\n",
       "    <tr>\n",
       "      <th>waterfront</th>\n",
       "      <td>0.27</td>\n",
       "      <td>-0.01</td>\n",
       "      <td>0.06</td>\n",
       "      <td>0.10</td>\n",
       "      <td>0.02</td>\n",
       "      <td>0.02</td>\n",
       "      <td>1.00</td>\n",
       "      <td>0.40</td>\n",
       "      <td>0.08</td>\n",
       "      <td>0.07</td>\n",
       "      <td>0.08</td>\n",
       "      <td>-0.03</td>\n",
       "      <td>0.09</td>\n",
       "      <td>0.03</td>\n",
       "      <td>-0.01</td>\n",
       "      <td>-0.04</td>\n",
       "      <td>0.09</td>\n",
       "      <td>0.03</td>\n",
       "    </tr>\n",
       "    <tr>\n",
       "      <th>view</th>\n",
       "      <td>0.40</td>\n",
       "      <td>0.08</td>\n",
       "      <td>0.19</td>\n",
       "      <td>0.28</td>\n",
       "      <td>0.07</td>\n",
       "      <td>0.03</td>\n",
       "      <td>0.40</td>\n",
       "      <td>1.00</td>\n",
       "      <td>0.25</td>\n",
       "      <td>0.17</td>\n",
       "      <td>0.28</td>\n",
       "      <td>-0.05</td>\n",
       "      <td>0.10</td>\n",
       "      <td>0.08</td>\n",
       "      <td>0.01</td>\n",
       "      <td>-0.08</td>\n",
       "      <td>0.28</td>\n",
       "      <td>0.07</td>\n",
       "    </tr>\n",
       "    <tr>\n",
       "      <th>grade</th>\n",
       "      <td>0.67</td>\n",
       "      <td>0.36</td>\n",
       "      <td>0.66</td>\n",
       "      <td>0.76</td>\n",
       "      <td>0.11</td>\n",
       "      <td>0.46</td>\n",
       "      <td>0.08</td>\n",
       "      <td>0.25</td>\n",
       "      <td>1.00</td>\n",
       "      <td>0.76</td>\n",
       "      <td>0.17</td>\n",
       "      <td>0.45</td>\n",
       "      <td>0.01</td>\n",
       "      <td>-0.18</td>\n",
       "      <td>0.11</td>\n",
       "      <td>0.20</td>\n",
       "      <td>0.71</td>\n",
       "      <td>0.12</td>\n",
       "    </tr>\n",
       "    <tr>\n",
       "      <th>sqft_above</th>\n",
       "      <td>0.61</td>\n",
       "      <td>0.48</td>\n",
       "      <td>0.69</td>\n",
       "      <td>0.88</td>\n",
       "      <td>0.18</td>\n",
       "      <td>0.52</td>\n",
       "      <td>0.07</td>\n",
       "      <td>0.17</td>\n",
       "      <td>0.76</td>\n",
       "      <td>1.00</td>\n",
       "      <td>-0.05</td>\n",
       "      <td>0.42</td>\n",
       "      <td>0.02</td>\n",
       "      <td>-0.26</td>\n",
       "      <td>-0.00</td>\n",
       "      <td>0.34</td>\n",
       "      <td>0.73</td>\n",
       "      <td>0.19</td>\n",
       "    </tr>\n",
       "    <tr>\n",
       "      <th>sqft_basement</th>\n",
       "      <td>0.32</td>\n",
       "      <td>0.30</td>\n",
       "      <td>0.28</td>\n",
       "      <td>0.44</td>\n",
       "      <td>0.02</td>\n",
       "      <td>-0.25</td>\n",
       "      <td>0.08</td>\n",
       "      <td>0.28</td>\n",
       "      <td>0.17</td>\n",
       "      <td>-0.05</td>\n",
       "      <td>1.00</td>\n",
       "      <td>-0.13</td>\n",
       "      <td>0.07</td>\n",
       "      <td>0.07</td>\n",
       "      <td>0.11</td>\n",
       "      <td>-0.14</td>\n",
       "      <td>0.20</td>\n",
       "      <td>0.02</td>\n",
       "    </tr>\n",
       "    <tr>\n",
       "      <th>yr_built</th>\n",
       "      <td>0.05</td>\n",
       "      <td>0.15</td>\n",
       "      <td>0.51</td>\n",
       "      <td>0.32</td>\n",
       "      <td>0.05</td>\n",
       "      <td>0.49</td>\n",
       "      <td>-0.03</td>\n",
       "      <td>-0.05</td>\n",
       "      <td>0.45</td>\n",
       "      <td>0.42</td>\n",
       "      <td>-0.13</td>\n",
       "      <td>1.00</td>\n",
       "      <td>-0.22</td>\n",
       "      <td>-0.35</td>\n",
       "      <td>-0.15</td>\n",
       "      <td>0.41</td>\n",
       "      <td>0.33</td>\n",
       "      <td>0.07</td>\n",
       "    </tr>\n",
       "    <tr>\n",
       "      <th>yr_renovated</th>\n",
       "      <td>0.13</td>\n",
       "      <td>0.02</td>\n",
       "      <td>0.05</td>\n",
       "      <td>0.06</td>\n",
       "      <td>0.01</td>\n",
       "      <td>0.01</td>\n",
       "      <td>0.09</td>\n",
       "      <td>0.10</td>\n",
       "      <td>0.01</td>\n",
       "      <td>0.02</td>\n",
       "      <td>0.07</td>\n",
       "      <td>-0.22</td>\n",
       "      <td>1.00</td>\n",
       "      <td>0.06</td>\n",
       "      <td>0.03</td>\n",
       "      <td>-0.07</td>\n",
       "      <td>-0.00</td>\n",
       "      <td>0.01</td>\n",
       "    </tr>\n",
       "    <tr>\n",
       "      <th>zipcode</th>\n",
       "      <td>-0.05</td>\n",
       "      <td>-0.15</td>\n",
       "      <td>-0.20</td>\n",
       "      <td>-0.20</td>\n",
       "      <td>-0.13</td>\n",
       "      <td>-0.06</td>\n",
       "      <td>0.03</td>\n",
       "      <td>0.08</td>\n",
       "      <td>-0.18</td>\n",
       "      <td>-0.26</td>\n",
       "      <td>0.07</td>\n",
       "      <td>-0.35</td>\n",
       "      <td>0.06</td>\n",
       "      <td>1.00</td>\n",
       "      <td>0.27</td>\n",
       "      <td>-0.56</td>\n",
       "      <td>-0.28</td>\n",
       "      <td>-0.15</td>\n",
       "    </tr>\n",
       "    <tr>\n",
       "      <th>lat</th>\n",
       "      <td>0.31</td>\n",
       "      <td>-0.01</td>\n",
       "      <td>0.02</td>\n",
       "      <td>0.05</td>\n",
       "      <td>-0.09</td>\n",
       "      <td>0.05</td>\n",
       "      <td>-0.01</td>\n",
       "      <td>0.01</td>\n",
       "      <td>0.11</td>\n",
       "      <td>-0.00</td>\n",
       "      <td>0.11</td>\n",
       "      <td>-0.15</td>\n",
       "      <td>0.03</td>\n",
       "      <td>0.27</td>\n",
       "      <td>1.00</td>\n",
       "      <td>-0.14</td>\n",
       "      <td>0.05</td>\n",
       "      <td>-0.09</td>\n",
       "    </tr>\n",
       "    <tr>\n",
       "      <th>long</th>\n",
       "      <td>0.02</td>\n",
       "      <td>0.13</td>\n",
       "      <td>0.22</td>\n",
       "      <td>0.24</td>\n",
       "      <td>0.23</td>\n",
       "      <td>0.13</td>\n",
       "      <td>-0.04</td>\n",
       "      <td>-0.08</td>\n",
       "      <td>0.20</td>\n",
       "      <td>0.34</td>\n",
       "      <td>-0.14</td>\n",
       "      <td>0.41</td>\n",
       "      <td>-0.07</td>\n",
       "      <td>-0.56</td>\n",
       "      <td>-0.14</td>\n",
       "      <td>1.00</td>\n",
       "      <td>0.33</td>\n",
       "      <td>0.25</td>\n",
       "    </tr>\n",
       "    <tr>\n",
       "      <th>sqft_living15</th>\n",
       "      <td>0.59</td>\n",
       "      <td>0.39</td>\n",
       "      <td>0.57</td>\n",
       "      <td>0.76</td>\n",
       "      <td>0.14</td>\n",
       "      <td>0.28</td>\n",
       "      <td>0.09</td>\n",
       "      <td>0.28</td>\n",
       "      <td>0.71</td>\n",
       "      <td>0.73</td>\n",
       "      <td>0.20</td>\n",
       "      <td>0.33</td>\n",
       "      <td>-0.00</td>\n",
       "      <td>-0.28</td>\n",
       "      <td>0.05</td>\n",
       "      <td>0.33</td>\n",
       "      <td>1.00</td>\n",
       "      <td>0.18</td>\n",
       "    </tr>\n",
       "    <tr>\n",
       "      <th>sqft_lot15</th>\n",
       "      <td>0.08</td>\n",
       "      <td>0.03</td>\n",
       "      <td>0.09</td>\n",
       "      <td>0.18</td>\n",
       "      <td>0.72</td>\n",
       "      <td>-0.01</td>\n",
       "      <td>0.03</td>\n",
       "      <td>0.07</td>\n",
       "      <td>0.12</td>\n",
       "      <td>0.19</td>\n",
       "      <td>0.02</td>\n",
       "      <td>0.07</td>\n",
       "      <td>0.01</td>\n",
       "      <td>-0.15</td>\n",
       "      <td>-0.09</td>\n",
       "      <td>0.25</td>\n",
       "      <td>0.18</td>\n",
       "      <td>1.00</td>\n",
       "    </tr>\n",
       "  </tbody>\n",
       "</table>\n",
       "</div>"
      ],
      "text/plain": [
       "               price  bedrooms  bathrooms  sqft_living  sqft_lot  floors  \\\n",
       "price           1.00      0.31       0.53         0.70      0.09    0.26   \n",
       "bedrooms        0.31      1.00       0.52         0.58      0.03    0.18   \n",
       "bathrooms       0.53      0.52       1.00         0.75      0.09    0.50   \n",
       "sqft_living     0.70      0.58       0.75         1.00      0.17    0.35   \n",
       "sqft_lot        0.09      0.03       0.09         0.17      1.00   -0.01   \n",
       "floors          0.26      0.18       0.50         0.35     -0.01    1.00   \n",
       "waterfront      0.27     -0.01       0.06         0.10      0.02    0.02   \n",
       "view            0.40      0.08       0.19         0.28      0.07    0.03   \n",
       "grade           0.67      0.36       0.66         0.76      0.11    0.46   \n",
       "sqft_above      0.61      0.48       0.69         0.88      0.18    0.52   \n",
       "sqft_basement   0.32      0.30       0.28         0.44      0.02   -0.25   \n",
       "yr_built        0.05      0.15       0.51         0.32      0.05    0.49   \n",
       "yr_renovated    0.13      0.02       0.05         0.06      0.01    0.01   \n",
       "zipcode        -0.05     -0.15      -0.20        -0.20     -0.13   -0.06   \n",
       "lat             0.31     -0.01       0.02         0.05     -0.09    0.05   \n",
       "long            0.02      0.13       0.22         0.24      0.23    0.13   \n",
       "sqft_living15   0.59      0.39       0.57         0.76      0.14    0.28   \n",
       "sqft_lot15      0.08      0.03       0.09         0.18      0.72   -0.01   \n",
       "\n",
       "               waterfront  view  grade  sqft_above  sqft_basement  yr_built  \\\n",
       "price                0.27  0.40   0.67        0.61           0.32      0.05   \n",
       "bedrooms            -0.01  0.08   0.36        0.48           0.30      0.15   \n",
       "bathrooms            0.06  0.19   0.66        0.69           0.28      0.51   \n",
       "sqft_living          0.10  0.28   0.76        0.88           0.44      0.32   \n",
       "sqft_lot             0.02  0.07   0.11        0.18           0.02      0.05   \n",
       "floors               0.02  0.03   0.46        0.52          -0.25      0.49   \n",
       "waterfront           1.00  0.40   0.08        0.07           0.08     -0.03   \n",
       "view                 0.40  1.00   0.25        0.17           0.28     -0.05   \n",
       "grade                0.08  0.25   1.00        0.76           0.17      0.45   \n",
       "sqft_above           0.07  0.17   0.76        1.00          -0.05      0.42   \n",
       "sqft_basement        0.08  0.28   0.17       -0.05           1.00     -0.13   \n",
       "yr_built            -0.03 -0.05   0.45        0.42          -0.13      1.00   \n",
       "yr_renovated         0.09  0.10   0.01        0.02           0.07     -0.22   \n",
       "zipcode              0.03  0.08  -0.18       -0.26           0.07     -0.35   \n",
       "lat                 -0.01  0.01   0.11       -0.00           0.11     -0.15   \n",
       "long                -0.04 -0.08   0.20        0.34          -0.14      0.41   \n",
       "sqft_living15        0.09  0.28   0.71        0.73           0.20      0.33   \n",
       "sqft_lot15           0.03  0.07   0.12        0.19           0.02      0.07   \n",
       "\n",
       "               yr_renovated  zipcode   lat  long  sqft_living15  sqft_lot15  \n",
       "price                  0.13    -0.05  0.31  0.02           0.59        0.08  \n",
       "bedrooms               0.02    -0.15 -0.01  0.13           0.39        0.03  \n",
       "bathrooms              0.05    -0.20  0.02  0.22           0.57        0.09  \n",
       "sqft_living            0.06    -0.20  0.05  0.24           0.76        0.18  \n",
       "sqft_lot               0.01    -0.13 -0.09  0.23           0.14        0.72  \n",
       "floors                 0.01    -0.06  0.05  0.13           0.28       -0.01  \n",
       "waterfront             0.09     0.03 -0.01 -0.04           0.09        0.03  \n",
       "view                   0.10     0.08  0.01 -0.08           0.28        0.07  \n",
       "grade                  0.01    -0.18  0.11  0.20           0.71        0.12  \n",
       "sqft_above             0.02    -0.26 -0.00  0.34           0.73        0.19  \n",
       "sqft_basement          0.07     0.07  0.11 -0.14           0.20        0.02  \n",
       "yr_built              -0.22    -0.35 -0.15  0.41           0.33        0.07  \n",
       "yr_renovated           1.00     0.06  0.03 -0.07          -0.00        0.01  \n",
       "zipcode                0.06     1.00  0.27 -0.56          -0.28       -0.15  \n",
       "lat                    0.03     0.27  1.00 -0.14           0.05       -0.09  \n",
       "long                  -0.07    -0.56 -0.14  1.00           0.33        0.25  \n",
       "sqft_living15         -0.00    -0.28  0.05  0.33           1.00        0.18  \n",
       "sqft_lot15             0.01    -0.15 -0.09  0.25           0.18        1.00  "
      ]
     },
     "execution_count": 72,
     "metadata": {},
     "output_type": "execute_result"
    }
   ],
   "source": [
    "num_corr_sinfecha= df_sinfecha.corr().round(2)\n",
    "num_corr_sinfecha"
   ]
  },
  {
   "cell_type": "code",
   "execution_count": 74,
   "id": "d5fe8ab9-14a5-448a-942a-fdd72f643a1f",
   "metadata": {},
   "outputs": [
    {
     "data": {
      "image/png": "[encoded data removed]",
      "text/plain": [
       "<Figure size 2500x1500 with 2 Axes>"
      ]
     },
     "metadata": {},
     "output_type": "display_data"
    }
   ],
   "source": [
    "# Correlation Matrix-Heatmap Plot\n",
    "mask = np.zeros_like(num_corr_sinfecha) #para quitar los 1 con 1.\n",
    "mask[np.triu_indices_from(mask)] = True # optional, to hide repeat half of the matrix\n",
    "\n",
    "f, ax = plt.subplots(figsize=(25, 15))\n",
    "sns.set(font_scale=1.5) # increase font size\n",
    "\n",
    "\n",
    "ax = sns.heatmap(num_corr_sinfecha, mask=mask, annot=True, annot_kws={\"size\": 12}, linewidths=.5, cmap=\"coolwarm\", fmt=\".2f\", ax=ax) # round to 2 decimal places\n",
    "ax.set_title(\"Dealing with Multicollinearity\", fontsize=20) # add title\n",
    "plt.show()"
   ]
  },
  {
   "cell_type": "markdown",
   "id": "07d63884-109f-4a25-a76a-96dd674412c5",
   "metadata": {
    "jp-MarkdownHeadingCollapsed": true
   },
   "source": [
    "<h1 style=\"color: #FF8C00;\">04 | Data Preprocessing </h1>"
   ]
  },
  {
   "cell_type": "markdown",
   "id": "4a430828-92ba-4be7-b595-8db60c7304c3",
   "metadata": {},
   "source": [
    "<h2 style=\"color: #FF6347;\">X-y Split con el DF TOTAL</h2>"
   ]
  },
  {
   "cell_type": "code",
   "execution_count": null,
   "id": "e0037a0f-2721-4c2c-8490-6d909dc99c97",
   "metadata": {},
   "outputs": [],
   "source": [
    "y = df_sinfecha[\"price\"]\n",
    "X = df_sinfecha.drop(columns = \"price\") #aqui no pongo el inplace=True para que asi no me modifique mi df, solo lo estoy asignando a mi variable."
   ]
  },
  {
   "cell_type": "markdown",
   "id": "2d7d4bac-3563-4336-be31-f71ba4b06d02",
   "metadata": {
    "jp-MarkdownHeadingCollapsed": true
   },
   "source": [
    "<h1 style=\"color: #FF8C00;\">05 | Modeling </h1>"
   ]
  },
  {
   "cell_type": "markdown",
   "id": "1cd81679-48ec-49f4-b8b3-0e2be325c532",
   "metadata": {
    "jp-MarkdownHeadingCollapsed": true
   },
   "source": [
    "<h2 style=\"color: #FF6347;\">Train-Test Split</h2>"
   ]
  },
  {
   "cell_type": "code",
   "execution_count": null,
   "id": "d27175e1-ea42-4183-b2a1-2f78b02e6674",
   "metadata": {},
   "outputs": [],
   "source": [
    "X_train, X_test, y_train, y_test = train_test_split(X, y, test_size=0.3, random_state=42)"
   ]
  },
  {
   "cell_type": "code",
   "execution_count": null,
   "id": "d48b50be-3222-417b-bd7a-54ef6719a80f",
   "metadata": {},
   "outputs": [],
   "source": [
    "print(f'100% of our data: {len(df)}.')\n",
    "print(f'70% for training data: {len(X_train)}.') \n",
    "print(f'30% for test data: {len(X_test)}.')"
   ]
  },
  {
   "cell_type": "markdown",
   "id": "d6802bcb-a221-485d-b3c0-7df5de281173",
   "metadata": {
    "jp-MarkdownHeadingCollapsed": true
   },
   "source": [
    "<h2 style=\"color: #FF6347;\">Selecting the Model: Linear Regression</h2>"
   ]
  },
  {
   "cell_type": "code",
   "execution_count": null,
   "id": "fe280e7c-9898-4ca7-831f-afd6c49a9828",
   "metadata": {},
   "outputs": [],
   "source": [
    "model = LinearRegression()\n",
    "model.fit(X_train, y_train)"
   ]
  },
  {
   "cell_type": "code",
   "execution_count": null,
   "id": "158ad4bd-3b9e-4e0f-8d69-4e5700a7d2ae",
   "metadata": {},
   "outputs": [],
   "source": [
    "predictions = model.predict(X_test)"
   ]
  },
  {
   "cell_type": "code",
   "execution_count": null,
   "id": "355eef1a-9939-4490-8fee-930044424bed",
   "metadata": {},
   "outputs": [],
   "source": [
    "print(f'30% for test prediction data: {len(predictions)}.')"
   ]
  },
  {
   "cell_type": "markdown",
   "id": "a0d7cbbe-b867-453d-b218-6c8fe6763f1f",
   "metadata": {},
   "source": [
    "<h3 style=\"color: #FF6347;\">Metrics</h3>"
   ]
  },
  {
   "cell_type": "code",
   "execution_count": null,
   "id": "034df2f7-9481-4f9b-81fb-d38dc74a4c03",
   "metadata": {},
   "outputs": [],
   "source": [
    "from sklearn.metrics import r2_score, mean_squared_error, mean_absolute_error"
   ]
  },
  {
   "cell_type": "code",
   "execution_count": null,
   "id": "14e5e1eb-87ea-47d7-88d5-45ee96e71c48",
   "metadata": {},
   "outputs": [],
   "source": [
    "r2 = r2_score(y_test, predictions) \n",
    "RMSE = mean_squared_error(y_test, predictions, squared=False)\n",
    "MSE = mean_squared_error(y_test, predictions)\n",
    "MAE = mean_absolute_error(y_test, predictions)"
   ]
  },
  {
   "cell_type": "code",
   "execution_count": null,
   "id": "62f1cbb9-406d-4b1e-960e-7e341bf1cd28",
   "metadata": {},
   "outputs": [],
   "source": [
    "print(\"R2 = \", round(r2, 4))\n",
    "print(\"RMSE = \", round(RMSE, 4))\n",
    "print(\"The value of the metric MSE is \", round(MSE, 4))\n",
    "print(\"MAE = \", round(MAE, 4))"
   ]
  },
  {
   "cell_type": "markdown",
   "id": "4fb73588-3127-4d20-ad62-e2f435bc2026",
   "metadata": {
    "jp-MarkdownHeadingCollapsed": true
   },
   "source": [
    "<h1 style=\"color: #FF8C00;\">06 | Trying other Models</h1>"
   ]
  },
  {
   "cell_type": "markdown",
   "id": "7c1c4d4c-8ef5-46e8-9635-161221827a27",
   "metadata": {
    "jp-MarkdownHeadingCollapsed": true
   },
   "source": [
    "<h2 style=\"color: #FF6347;\">Selecting the Model: Ridge Regression</h2>"
   ]
  },
  {
   "cell_type": "code",
   "execution_count": null,
   "id": "e86000eb-16b1-4b9f-b65f-9a0142cf84aa",
   "metadata": {},
   "outputs": [],
   "source": [
    "ridge = Ridge()\n",
    "ridge.fit(X_train, y_train)"
   ]
  },
  {
   "cell_type": "markdown",
   "id": "3db55ff2-a35b-4be8-8f86-96d18862d133",
   "metadata": {
    "jp-MarkdownHeadingCollapsed": true
   },
   "source": [
    "<h2 style=\"color: #FF6347;\">Model Validation</h2>"
   ]
  },
  {
   "cell_type": "code",
   "execution_count": null,
   "id": "6c5c6ff5-77bf-4a54-a190-b415115c87c1",
   "metadata": {},
   "outputs": [],
   "source": [
    "predictions_ridge = ridge.predict(X_test)"
   ]
  },
  {
   "cell_type": "markdown",
   "id": "25245b17-1f3a-4148-b890-10655fa537fb",
   "metadata": {},
   "source": [
    "<h3 style=\"color: #FF6347;\">Metrics</h3>"
   ]
  },
  {
   "cell_type": "code",
   "execution_count": null,
   "id": "79e6e468-97fa-4f50-aeef-006e27cb8062",
   "metadata": {},
   "outputs": [],
   "source": [
    "r2_ridge = r2_score(y_test, predictions_ridge)\n",
    "RMSE_ridge = mean_squared_error(y_test, predictions_ridge, squared=False)\n",
    "MSE_ridge = mean_squared_error(y_test, predictions_ridge)\n",
    "MAE_ridge = mean_absolute_error(y_test, predictions_ridge)"
   ]
  },
  {
   "cell_type": "code",
   "execution_count": null,
   "id": "5302ffa1-1fa0-4c89-bf3a-7953a8459353",
   "metadata": {},
   "outputs": [],
   "source": [
    "#Printing the results\n",
    "print(\"R2 = \", round(r2_ridge, 4))\n",
    "print(\"RMSE = \", round(RMSE_ridge, 4))\n",
    "print(\"The value of the metric MSE is \", round(MSE_ridge, 4))\n",
    "print(\"MAE = \", round(MAE_ridge, 4))"
   ]
  },
  {
   "cell_type": "markdown",
   "id": "03844ebf-add1-4189-bd2a-13d30e8ba0e6",
   "metadata": {
    "jp-MarkdownHeadingCollapsed": true
   },
   "source": [
    "<h2 style=\"color: #FF6347;\">Selecting the Model: Lasso Regression</h2>"
   ]
  },
  {
   "cell_type": "code",
   "execution_count": null,
   "id": "c944b66f-90e3-4263-a62c-33d5a0487919",
   "metadata": {},
   "outputs": [],
   "source": [
    "from sklearn.linear_model import Lasso"
   ]
  },
  {
   "cell_type": "code",
   "execution_count": null,
   "id": "e595ab53-f629-4cdc-9ced-58dfa9572dbd",
   "metadata": {},
   "outputs": [],
   "source": [
    "lasso = Lasso()\n",
    "lasso.fit(X_train, y_train)"
   ]
  },
  {
   "cell_type": "markdown",
   "id": "2a10cb48-fa37-454c-a97d-c3e043284f72",
   "metadata": {
    "jp-MarkdownHeadingCollapsed": true
   },
   "source": [
    "<h2 style=\"color: #FF6347;\">Model Validation</h2>"
   ]
  },
  {
   "cell_type": "code",
   "execution_count": null,
   "id": "8fc569e0-559a-4616-98a5-f566cfa479b6",
   "metadata": {},
   "outputs": [],
   "source": [
    "predictions_lasso = lasso.predict(X_test)"
   ]
  },
  {
   "cell_type": "markdown",
   "id": "28b6bfcb-0217-4fae-88ac-b3895597772b",
   "metadata": {},
   "source": [
    "<h3 style=\"color: #FF6347;\">Metrics</h3>"
   ]
  },
  {
   "cell_type": "code",
   "execution_count": null,
   "id": "2c835dd7-0672-46a4-aab2-24eb42c18555",
   "metadata": {},
   "outputs": [],
   "source": [
    "r2_lasso = r2_score(y_test, predictions_lasso)\n",
    "RMSE_lasso = mean_squared_error(y_test, predictions_lasso, squared=False)\n",
    "MSE_lasso = mean_squared_error(y_test, predictions_lasso)\n",
    "MAE_lasso = mean_absolute_error(y_test, predictions_lasso)"
   ]
  },
  {
   "cell_type": "code",
   "execution_count": null,
   "id": "7078b26a-7276-4b7f-91c9-660bf48f9e4d",
   "metadata": {},
   "outputs": [],
   "source": [
    "#Printing the results\n",
    "print(\"R2 = \", round(r2_lasso, 4))\n",
    "print(\"RMSE = \", round(RMSE_lasso, 4))\n",
    "print(\"The value of the metric MSE is \", round(MSE_lasso, 4))\n",
    "print(\"MAE = \", round(MAE_lasso, 4))"
   ]
  },
  {
   "cell_type": "markdown",
   "id": "2bd6010c-432b-4cad-899f-9630b648cffe",
   "metadata": {
    "jp-MarkdownHeadingCollapsed": true
   },
   "source": [
    "<h2 style=\"color: #FF6347;\">Selecting the Model: Decision Tree Regression</h2>"
   ]
  },
  {
   "cell_type": "code",
   "execution_count": null,
   "id": "34c956e6-8206-495c-8731-e9a351ecbc55",
   "metadata": {},
   "outputs": [],
   "source": [
    "from sklearn.tree import DecisionTreeRegressor"
   ]
  },
  {
   "cell_type": "code",
   "execution_count": null,
   "id": "d43b55ea-f5c7-4243-a993-e5b0ea013e5f",
   "metadata": {},
   "outputs": [],
   "source": [
    "tree = DecisionTreeRegressor()\n",
    "tree.fit(X_train, y_train)"
   ]
  },
  {
   "cell_type": "markdown",
   "id": "ee70893d-1393-466b-94ea-18f1c6ff538c",
   "metadata": {
    "jp-MarkdownHeadingCollapsed": true
   },
   "source": [
    "<h2 style=\"color: #FF6347;\">Model Validation</h2>"
   ]
  },
  {
   "cell_type": "code",
   "execution_count": null,
   "id": "32227706-2f4f-48c4-be68-20d20ec7efa3",
   "metadata": {},
   "outputs": [],
   "source": [
    "predictions_tree = tree.predict(X_test)"
   ]
  },
  {
   "cell_type": "markdown",
   "id": "2abe1fc3-025f-4e78-8358-624c449d1ae7",
   "metadata": {},
   "source": [
    "<h3 style=\"color: #FF6347;\">Metrics</h3>"
   ]
  },
  {
   "cell_type": "code",
   "execution_count": null,
   "id": "57566b0b-5c44-4da6-8324-32ea13e55ae0",
   "metadata": {},
   "outputs": [],
   "source": [
    "r2_tree = r2_score(y_test, predictions_tree)\n",
    "RMSE_tree = mean_squared_error(y_test, predictions_tree, squared=False)\n",
    "MSE_tree = mean_squared_error(y_test, predictions_tree)\n",
    "MAE_tree = mean_absolute_error(y_test, predictions_tree)"
   ]
  },
  {
   "cell_type": "code",
   "execution_count": null,
   "id": "2584d345-f990-4cc3-b0ab-5790ec28a05f",
   "metadata": {},
   "outputs": [],
   "source": [
    "#Printing the results\n",
    "print(\"R2 = \", round(r2_tree, 4))\n",
    "print(\"RMSE = \", round(RMSE_tree, 4))\n",
    "print(\"The value of the metric MSE is \", round(MSE_tree, 4))\n",
    "print(\"MAE = \", round(MAE_tree, 4))"
   ]
  },
  {
   "cell_type": "markdown",
   "id": "fd3bd853-bf9f-45a9-9c25-78a582c23324",
   "metadata": {
    "jp-MarkdownHeadingCollapsed": true
   },
   "source": [
    "<h2 style=\"color: #FF6347;\">Selecting the Model: KNN Regression</h2>"
   ]
  },
  {
   "cell_type": "code",
   "execution_count": null,
   "id": "501adde7-5ba7-465c-bf53-c11b45c24a0e",
   "metadata": {},
   "outputs": [],
   "source": [
    "from sklearn.neighbors import KNeighborsRegressor"
   ]
  },
  {
   "cell_type": "code",
   "execution_count": null,
   "id": "1263740a-7a8c-4b9c-be99-eab56c723d5f",
   "metadata": {},
   "outputs": [],
   "source": [
    "knn = KNeighborsRegressor()\n",
    "knn.fit(X_train, y_train)"
   ]
  },
  {
   "cell_type": "markdown",
   "id": "5487263f-c053-4cfa-815b-8bf8f9025e1c",
   "metadata": {
    "jp-MarkdownHeadingCollapsed": true
   },
   "source": [
    "<h2 style=\"color: #FF6347;\">Model Validation</h2>"
   ]
  },
  {
   "cell_type": "code",
   "execution_count": null,
   "id": "a2d28ca5-c7ed-4392-90cb-674080f01578",
   "metadata": {},
   "outputs": [],
   "source": [
    "predictions_knn = knn.predict(X_test)"
   ]
  },
  {
   "cell_type": "markdown",
   "id": "299b12ce-3cac-491b-8173-25347234d5ac",
   "metadata": {},
   "source": [
    "<h3 style=\"color: #FF6347;\">Metrics</h3>"
   ]
  },
  {
   "cell_type": "code",
   "execution_count": null,
   "id": "e4a5fa09-ebd5-4c5a-baf6-76812b7a4d11",
   "metadata": {},
   "outputs": [],
   "source": [
    "r2_knn = r2_score(y_test, predictions_knn)\n",
    "RMSE_knn = mean_squared_error(y_test, predictions_knn, squared=False)\n",
    "MSE_knn= mean_squared_error(y_test, predictions_knn)\n",
    "MAE_knn = mean_absolute_error(y_test, predictions_knn)"
   ]
  },
  {
   "cell_type": "code",
   "execution_count": null,
   "id": "4fdb2856-1da7-4d54-8553-2635a60bdc78",
   "metadata": {},
   "outputs": [],
   "source": [
    "#Printing the results\n",
    "print(\"R2 = \", round(r2_knn, 4))\n",
    "print(\"RMSE = \", round(RMSE_knn, 4))\n",
    "print(\"The value of the metric MSE is \", round(MSE_knn, 4))\n",
    "print(\"MAE = \", round(MAE_knn, 4))"
   ]
  },
  {
   "cell_type": "markdown",
   "id": "f2781208-3dce-4149-8f11-978c7faf6c6c",
   "metadata": {
    "jp-MarkdownHeadingCollapsed": true
   },
   "source": [
    "<h2 style=\"color: #FF6347;\">Selecting the Model: XGBoost Regression</h2>"
   ]
  },
  {
   "cell_type": "code",
   "execution_count": null,
   "id": "5cb3ca21-8e92-44e2-873c-0073be0e8e44",
   "metadata": {},
   "outputs": [],
   "source": [
    "import xgboost as xgb"
   ]
  },
  {
   "cell_type": "code",
   "execution_count": null,
   "id": "9922e6f1-e617-4a39-bae5-579cff160084",
   "metadata": {},
   "outputs": [],
   "source": [
    "xgbr = xgb.XGBRFRegressor()\n",
    "xgbr.fit(X_train, y_train)"
   ]
  },
  {
   "cell_type": "markdown",
   "id": "7c482ab6-3038-4e7c-b06f-992e2a11f077",
   "metadata": {
    "jp-MarkdownHeadingCollapsed": true
   },
   "source": [
    "<h2 style=\"color: #FF6347;\">Model Validation</h2>"
   ]
  },
  {
   "cell_type": "code",
   "execution_count": null,
   "id": "2b739954-e274-4139-9fc6-8888cc14e16a",
   "metadata": {},
   "outputs": [],
   "source": [
    "predictions_xgb = xgbr.predict(X_test)"
   ]
  },
  {
   "cell_type": "markdown",
   "id": "cd586e2a-bece-4de1-9d38-2adf338ed537",
   "metadata": {},
   "source": [
    "<h3 style=\"color: #FF6347;\">Metrics</h3>"
   ]
  },
  {
   "cell_type": "code",
   "execution_count": null,
   "id": "6123c76e-61da-43b0-9410-51bfb2fa00a8",
   "metadata": {},
   "outputs": [],
   "source": [
    "r2_xgb = r2_score(y_test, predictions_xgb)\n",
    "RMSE_xgb = mean_squared_error(y_test, predictions_xgb, squared=False)\n",
    "MSE_xgb = mean_squared_error(y_test, predictions_xgb)\n",
    "MAE_xgb = mean_absolute_error(y_test, predictions_xgb)"
   ]
  },
  {
   "cell_type": "code",
   "execution_count": null,
   "id": "566bb278-3325-4e96-8f1a-09c13b6043cc",
   "metadata": {},
   "outputs": [],
   "source": [
    "#Printing the results\n",
    "print(\"R2 = \", round(r2_xgb, 4))\n",
    "print(\"RMSE = \", round(RMSE_xgb, 4))\n",
    "print(\"The value of the metric MSE is \", round(MSE_xgb, 4))\n",
    "print(\"MAE = \", round(MAE_xgb, 4))"
   ]
  },
  {
   "cell_type": "markdown",
   "id": "d02b35a4-676a-4943-bb63-667b88bb1a1a",
   "metadata": {},
   "source": [
    "<h2 style=\"color: #FF6347;\">Final Comparision</h2>"
   ]
  },
  {
   "cell_type": "code",
   "execution_count": null,
   "id": "d25340ec-6c54-492b-8f02-939fd0fa4f07",
   "metadata": {},
   "outputs": [],
   "source": [
    "metrics = {\n",
    "    'Model': ['Linear Regression', 'Ridge', 'Lasso', 'Decision Tree', 'KNN', 'XGBoost'],\n",
    "    'R²': [r2, r2_ridge, r2_lasso, r2_tree, r2_knn, r2_xgb],\n",
    "    'RMSE': [RMSE, RMSE_ridge, RMSE_lasso, RMSE_tree, RMSE_knn, RMSE_xgb],\n",
    "    'MSE': [MSE, MSE_ridge, MSE_lasso, MSE_tree, MSE_knn, MSE_xgb],\n",
    "    'MAE': [MAE, MAE_ridge, MAE_lasso, MAE_tree, MAE_knn, MAE_xgb]\n",
    "}"
   ]
  },
  {
   "cell_type": "code",
   "execution_count": null,
   "id": "d1dc2b99-7768-493d-a833-f48da63aed35",
   "metadata": {},
   "outputs": [],
   "source": [
    "df_metrics = pd.DataFrame(metrics)\n",
    "df_metrics.set_index(\"Model\").T"
   ]
  },
  {
   "cell_type": "markdown",
   "id": "0581c3b0-02f6-44df-998f-c5e919078bc3",
   "metadata": {
    "jp-MarkdownHeadingCollapsed": true
   },
   "source": [
    "<h2 style=\"color: #FF6347;\">Normalization with MinMaxScaler</h2>"
   ]
  },
  {
   "cell_type": "code",
   "execution_count": null,
   "id": "c3b3845e-863a-4d56-9714-020448eea44e",
   "metadata": {},
   "outputs": [],
   "source": [
    "color = '#FF8C00'\n",
    "\n",
    "# grid size\n",
    "nrows, ncols = 5, 4  # adjust for your number of features\n",
    "\n",
    "fig, axes = plt.subplots(nrows=nrows, ncols=ncols, figsize=(20, 16))\n",
    "\n",
    "axes = axes.flatten()\n",
    "\n",
    "# Plot each numerical feature\n",
    "for i, ax in enumerate(axes):\n",
    "    if i >= len(df_sinfecha.columns):\n",
    "        ax.set_visible(False)  # hide unesed plots\n",
    "        continue\n",
    "    ax.hist(df_sinfecha.iloc[:, i], bins=30, color=color, edgecolor='black')\n",
    "    ax.set_title(df.columns[i])\n",
    "\n",
    "plt.tight_layout()\n",
    "plt.show()"
   ]
  },
  {
   "cell_type": "code",
   "execution_count": null,
   "id": "7cb99556-1763-4d2b-a692-5a84895c6534",
   "metadata": {},
   "outputs": [],
   "source": [
    "from sklearn.preprocessing import MinMaxScaler "
   ]
  },
  {
   "cell_type": "code",
   "execution_count": null,
   "id": "81febe84-8a53-4790-ba3d-968a37bb84ca",
   "metadata": {},
   "outputs": [],
   "source": [
    "scaler = MinMaxScaler() "
   ]
  },
  {
   "cell_type": "code",
   "execution_count": null,
   "id": "9a1c2f4e-597d-4b97-b57f-706fb708e4ea",
   "metadata": {},
   "outputs": [],
   "source": [
    "#el transform lo hago para ver si asi mejora mi modelo al comprimir los valores de 0 a 1\n",
    "#porque lo tenemos en dolares \n",
    "X_train_scaled = scaler.fit_transform(X_train) \n",
    "X_test_scaled = scaler.transform(X_test)"
   ]
  },
  {
   "cell_type": "code",
   "execution_count": null,
   "id": "ff655c34-f527-4021-b9d5-c8fdb61b0b94",
   "metadata": {},
   "outputs": [],
   "source": [
    "xgbr = xgb.XGBRegressor()\n",
    "xgbr.fit(X_train_scaled, y_train) #aqui me esta tomando valores entre 0 y 1\n",
    "\n",
    "predictions_xgb_2 = xgbr.predict(X_test_scaled) #esta tomando valores entre 0 y 1"
   ]
  },
  {
   "cell_type": "code",
   "execution_count": null,
   "id": "994899a8-7751-4da3-8049-39aa265f0332",
   "metadata": {},
   "outputs": [],
   "source": [
    "#La Y (target) no la transformo porque ya esta en las unidades originales, asi despues no tengo que cambiar todo otra vez a unidades originales. \n",
    "r2_scaler = r2_score(y_test, predictions_xgb_2)\n",
    "RMSE_scaler = mean_squared_error(y_test, predictions_xgb_2, squared=False)\n",
    "MSE_scaler = mean_squared_error(y_test, predictions_xgb_2)\n",
    "MAE_scaler = mean_absolute_error(y_test, predictions_xgb_2)\n",
    "\n",
    "#Printing the results\n",
    "print(\"R2 = \", round(r2_scaler, 4))\n",
    "print(\"RMSE = \", round(RMSE_scaler, 4))\n",
    "print(\"The value of the metric MSE is \", round(MSE_scaler, 4))\n",
    "print(\"MAE = \", round(MAE_scaler, 4))"
   ]
  },
  {
   "cell_type": "markdown",
   "id": "52668464-80f6-4878-8c2e-34bacba160fd",
   "metadata": {
    "jp-MarkdownHeadingCollapsed": true
   },
   "source": [
    "<h2 style=\"color: #FF6347;\">Normalization with StandardScaler</h2>"
   ]
  },
  {
   "cell_type": "code",
   "execution_count": null,
   "id": "eb49036b-e5b2-4227-bc7e-58603954ce72",
   "metadata": {},
   "outputs": [],
   "source": [
    "from sklearn.preprocessing import StandardScaler"
   ]
  },
  {
   "cell_type": "code",
   "execution_count": null,
   "id": "cbc13063-bd8b-44d6-93de-ff886c9fb486",
   "metadata": {},
   "outputs": [],
   "source": [
    "scaler = StandardScaler()\n",
    "X_train_scaled = scaler.fit_transform(X_train)\n",
    "X_test_scaled = scaler.transform(X_test)"
   ]
  },
  {
   "cell_type": "code",
   "execution_count": null,
   "id": "b8b47b6d-1989-4e64-99c5-cf753c7b6b82",
   "metadata": {},
   "outputs": [],
   "source": [
    "xgbr.fit(X_train_scaled, y_train)\n",
    "predictions_xgb_2 = xgbr.predict(X_test_scaled)"
   ]
  },
  {
   "cell_type": "code",
   "execution_count": null,
   "id": "b4ff3aa7-ec1e-4ed5-9fe5-901c156f3e62",
   "metadata": {},
   "outputs": [],
   "source": [
    "r2_xg_stand = r2_score(y_test, predictions_xgb_2)\n",
    "RMSE_xg_stand = mean_squared_error(y_test, predictions_xgb_2, squared=False)\n",
    "MSE_xg_stand = mean_squared_error(y_test, predictions_xgb_2)\n",
    "MAE_xg_stand = mean_absolute_error(y_test, predictions_xgb_2)\n",
    "\n",
    "#Printing the results\n",
    "print(\"R2 = \", round(r2_xg_stand, 4))\n",
    "print(\"RMSE = \", round(RMSE_xg_stand, 4))\n",
    "print(\"The value of the metric MSE is \", round(MSE_xg_stand, 4))\n",
    "print(\"MAE = \", round(MAE_xg_stand, 4))"
   ]
  },
  {
   "cell_type": "markdown",
   "id": "91b787fe-379a-4993-b94c-c7e11da8098a",
   "metadata": {
    "jp-MarkdownHeadingCollapsed": true
   },
   "source": [
    "<h2 style=\"color: #FF6347;\">Normalization with Log Transform</h2>"
   ]
  },
  {
   "cell_type": "code",
   "execution_count": null,
   "id": "6db79b01-1fa4-4516-862f-bc744a96f12c",
   "metadata": {},
   "outputs": [],
   "source": [
    "X_train_log = np.log1p(X_train)  # np.log1p is useful to handle zero values in your data\n",
    "X_test_log = np.log1p(X_test)"
   ]
  },
  {
   "cell_type": "code",
   "execution_count": null,
   "id": "e0980e4c-76a0-4752-a45e-2bd1bbaa11ef",
   "metadata": {},
   "outputs": [],
   "source": [
    "xgbr.fit(X_train_log, y_train)\n",
    "predictions_xgb_2 = xgbr.predict(X_test_log)"
   ]
  },
  {
   "cell_type": "code",
   "execution_count": null,
   "id": "e1da2cb1-dba6-404e-bf87-340ac7becf80",
   "metadata": {},
   "outputs": [],
   "source": [
    "r2_xg_log = r2_score(y_test, predictions_xgb_2)\n",
    "RMSE_xg_log = mean_squared_error(y_test, predictions_xgb_2, squared=False)\n",
    "MSE_xg_log = mean_squared_error(y_test, predictions_xgb_2)\n",
    "MAE_xg_log = mean_absolute_error(y_test, predictions_xgb_2)\n",
    "\n",
    "#Printing the results\n",
    "print(\"R2 = \", round(r2_xg_log, 4))\n",
    "print(\"RMSE = \", round(RMSE_xg_log, 4))\n",
    "print(\"The value of the metric MSE is \", round(MSE_xg_log, 4))\n",
    "print(\"MAE = \", round(MAE_xg_log, 4))"
   ]
  },
  {
   "cell_type": "markdown",
   "id": "a5ffef73-fab6-4e2a-b7cd-46f2853f88b7",
   "metadata": {
    "jp-MarkdownHeadingCollapsed": true
   },
   "source": [
    "<h2 style=\"color: #FF6347;\">Final Comparision with the Normalizations</h2>"
   ]
  },
  {
   "cell_type": "code",
   "execution_count": null,
   "id": "e8cb561a-3fef-4884-9abe-16b19544007d",
   "metadata": {},
   "outputs": [],
   "source": [
    "normalizations = {\n",
    "    'Model': ['MinMaxScaler ', 'StandardScaler', 'Log_Transform'],\n",
    "    'R²': [r2_scaler, r2_xg_stand, r2_xg_log],\n",
    "    'RMSE': [RMSE_scaler, RMSE_xg_stand, RMSE_xg_log],\n",
    "    'MSE': [MSE_scaler, MSE_xg_stand, MSE_xg_log],\n",
    "    'MAE': [MAE_scaler, MAE_xg_stand, MAE_xg_log]\n",
    "}"
   ]
  },
  {
   "cell_type": "code",
   "execution_count": null,
   "id": "7e919d9d-f53b-438c-8ee9-f42c7a69cb70",
   "metadata": {},
   "outputs": [],
   "source": [
    "df_normalizations = pd.DataFrame(normalizations)\n",
    "df_normalizations.set_index(\"Model\").T"
   ]
  },
  {
   "cell_type": "markdown",
   "id": "99662287-48db-4b48-add7-e1a1612f69c0",
   "metadata": {
    "jp-MarkdownHeadingCollapsed": true
   },
   "source": [
    "<h1 style=\"color: #33b8ff;\">07 | Removing columns (sqft_above)</h1>"
   ]
  },
  {
   "cell_type": "markdown",
   "id": "ad153a74-3e87-42b7-9348-fbd07bae8417",
   "metadata": {},
   "source": [
    "Aqui hemos eliminado la columna de sqft_above para ver como influye en nuestros modelos."
   ]
  },
  {
   "cell_type": "code",
   "execution_count": null,
   "id": "c659571e-d61e-4067-b845-d6350d868ed4",
   "metadata": {},
   "outputs": [],
   "source": [
    "df_above = df.drop(columns=['condition', 'sqft_above','date'])"
   ]
  },
  {
   "cell_type": "code",
   "execution_count": null,
   "id": "c1b33435-753e-4482-b690-96d631039113",
   "metadata": {},
   "outputs": [],
   "source": [
    "df_above.head()"
   ]
  },
  {
   "cell_type": "markdown",
   "id": "91bc73a5-6f8f-49d1-9530-d256be4cf20f",
   "metadata": {},
   "source": [
    "<h2 style=\"color: #33b8ff;\">Checking Outliers</h2>"
   ]
  },
  {
   "cell_type": "code",
   "execution_count": null,
   "id": "46f3b105-f624-42f3-b8f6-82865b2f9759",
   "metadata": {},
   "outputs": [],
   "source": [
    "color = '#33b8ff'\n",
    "\n",
    "# grid size\n",
    "nrows, ncols = 5, 4 \n",
    "\n",
    "fig, axes = plt.subplots(nrows=nrows, ncols=ncols, figsize=(20, 16))\n",
    "\n",
    "axes = axes.flatten()\n",
    "\n",
    "for i, ax in enumerate(axes):\n",
    "    if i >= len(df_above.columns):\n",
    "        ax.set_visible(False)\n",
    "        continue\n",
    "    ax.boxplot(df_above.iloc[:, i].dropna(), vert=False, patch_artist=True, \n",
    "               boxprops=dict(facecolor=color, color='black'), \n",
    "               medianprops=dict(color='yellow'), whiskerprops=dict(color='black'), \n",
    "               capprops=dict(color='black'), flierprops=dict(marker='o', color='red', markersize=5))\n",
    "    ax.set_title(df_above.columns[i], fontsize=10)\n",
    "    ax.tick_params(axis='x', labelsize=8)\n",
    "\n",
    "plt.tight_layout()\n",
    "plt.show()"
   ]
  },
  {
   "cell_type": "markdown",
   "id": "1d8e3673-fb14-44ab-8099-7ecb3ec54119",
   "metadata": {},
   "source": [
    "<h2 style=\"color: #33b8ff;\">Linear Regression</h2>"
   ]
  },
  {
   "cell_type": "code",
   "execution_count": null,
   "id": "f24dc0e9-a940-4249-a84a-f9d4f1f03259",
   "metadata": {},
   "outputs": [],
   "source": [
    "num_corr_above = df_above.corr().round(2)\n",
    "\n",
    "mask = np.zeros_like(num_corr_above) #para quitar los 1 con 1.\n",
    "mask[np.triu_indices_from(mask)] = True # optional, to hide repeat half of the matrix\n",
    "\n",
    "f, ax = plt.subplots(figsize=(25, 10))\n",
    "sns.set(font_scale=1.5) # increase font size\n",
    "\n",
    "ax = sns.heatmap(num_corr_above, mask=mask, annot=True, annot_kws={\"size\": 12}, linewidths=.5, cmap=\"coolwarm\", fmt=\".2f\", ax=ax) # round to 2 decimal places\n",
    "ax.set_title(\"Dealing with Multicollinearity\", fontsize=20) # add title\n",
    "plt.show()\n",
    "\n",
    "y= df_sinfecha[\"price\"]\n",
    "X = df_sinfecha.drop(columns = \"price\")\n",
    "X_train, X_test, y_train, y_test = train_test_split(X, y, test_size=0.3, random_state=42)\n",
    "\n",
    "model = LinearRegression()\n",
    "model.fit(X_train, y_train)\n",
    "\n",
    "predictions = model.predict(X_test)\n",
    "\n",
    "r2_above = r2_score(y_test, predictions) \n",
    "RMSE_above = mean_squared_error(y_test, predictions, squared=False)\n",
    "MSE_above = mean_squared_error(y_test, predictions)\n",
    "MAE_above = mean_absolute_error(y_test, predictions)\n",
    "\n",
    "\n",
    "print(\"R2 = \", round(r2_above, 4))\n",
    "print(\"RMSE = \", round(RMSE_above, 4))\n",
    "print(\"The value of the metric MSE is \", round(MSE_above, 4))\n",
    "print(\"MAE = \", round(MAE_above, 4))"
   ]
  },
  {
   "cell_type": "markdown",
   "id": "85afc3ed-ad61-45cf-9599-c7f64a6e3faa",
   "metadata": {
    "jp-MarkdownHeadingCollapsed": true
   },
   "source": [
    "<h1 style=\"color: #ff3374;\">08 | Analyzing the houses with a price above 650,000 </h1>"
   ]
  },
  {
   "cell_type": "code",
   "execution_count": null,
   "id": "627c8bcc-9aea-4c19-aaef-7f788a6159a5",
   "metadata": {},
   "outputs": [],
   "source": [
    "#DF con los precios iguales o arriba de 650000, quitando las columnas que no nos interesan.\n",
    "df_650 = df_sinfecha[df_sinfecha['price'] >= 650000] \n",
    "df_650"
   ]
  },
  {
   "cell_type": "markdown",
   "id": "2db28c75-c539-4b70-8c66-6f5c7aeb8c9e",
   "metadata": {
    "jp-MarkdownHeadingCollapsed": true
   },
   "source": [
    "<h2 style=\"color: #ff3374;\">Checking Outliers</h2>"
   ]
  },
  {
   "cell_type": "code",
   "execution_count": null,
   "id": "eafa2807-1456-4fed-8e95-f67fdde2d2e1",
   "metadata": {},
   "outputs": [],
   "source": [
    "color = '#ff3374'\n",
    "\n",
    "# grid size\n",
    "nrows, ncols = 5, 4 \n",
    "\n",
    "fig, axes = plt.subplots(nrows=nrows, ncols=ncols, figsize=(20, 16))\n",
    "\n",
    "axes = axes.flatten()\n",
    "\n",
    "for i, ax in enumerate(axes):\n",
    "    if i >= len(df_650.columns):\n",
    "        ax.set_visible(False)\n",
    "        continue\n",
    "    ax.boxplot(df_650.iloc[:, i].dropna(), vert=False, patch_artist=True, \n",
    "               boxprops=dict(facecolor=color, color='black'), \n",
    "               medianprops=dict(color='yellow'), whiskerprops=dict(color='black'), \n",
    "               capprops=dict(color='black'), flierprops=dict(marker='o', color='red', markersize=5))\n",
    "    ax.set_title(df_650.columns[i], fontsize=10)\n",
    "    ax.tick_params(axis='x', labelsize=8)\n",
    "\n",
    "plt.tight_layout()\n",
    "plt.show()"
   ]
  },
  {
   "cell_type": "markdown",
   "id": "1a92380b-0ec5-48a4-b12a-339d86087560",
   "metadata": {},
   "source": [
    "<h2 style=\"color: #ff3374;\">Linear Regression</h2>"
   ]
  },
  {
   "cell_type": "code",
   "execution_count": null,
   "id": "9ea7cb48-d410-404e-b293-bbb6cace92d0",
   "metadata": {},
   "outputs": [],
   "source": [
    "num_corr_650 = df_650.corr().round(2)\n",
    "\n",
    "mask = np.zeros_like(num_corr_650) #para quitar los 1 con 1.\n",
    "mask[np.triu_indices_from(mask)] = True # optional, to hide repeat half of the matrix\n",
    "\n",
    "f, ax = plt.subplots(figsize=(25, 10))\n",
    "sns.set(font_scale=1.5) # increase font size\n",
    "\n",
    "ax = sns.heatmap(num_corr_650, mask=mask, annot=True, annot_kws={\"size\": 12}, linewidths=.5, cmap=\"coolwarm\", fmt=\".2f\", ax=ax) # round to 2 decimal places\n",
    "ax.set_title(\"Dealing with Multicollinearity\", fontsize=20) # add title\n",
    "plt.show()\n",
    "\n",
    "y= df_650[\"price\"]\n",
    "X = df_650.drop(columns = \"price\")\n",
    "X_train, X_test, y_train, y_test = train_test_split(X, y, test_size=0.3, random_state=42)\n",
    "\n",
    "model = LinearRegression()\n",
    "model.fit(X_train, y_train)\n",
    "\n",
    "predictions = model.predict(X_test)\n",
    "\n",
    "r2_650 = r2_score(y_test, predictions) \n",
    "RMSE_650 = mean_squared_error(y_test, predictions, squared=False)\n",
    "MSE_650 = mean_squared_error(y_test, predictions)\n",
    "MAE_650 = mean_absolute_error(y_test, predictions)\n",
    "\n",
    "\n",
    "print(\"R2 = \", round(r2_650, 4))\n",
    "print(\"RMSE = \", round(RMSE_650, 4))\n",
    "print(\"The value of the metric MSE is \", round(MSE_650, 4))\n",
    "print(\"MAE = \", round(MAE_650, 4))"
   ]
  },
  {
   "cell_type": "code",
   "execution_count": null,
   "id": "af2d5ead-241a-4b03-97c9-8ccb520640e5",
   "metadata": {},
   "outputs": [],
   "source": [
    "#Podemos ver que el Len cambio y se reduce demasiado por lo cual nuestro modelo obviamente es peor con 650, porque son muy poco datos.\n",
    "print(len(df_650))\n",
    "print(len(df_sinfecha))\n"
   ]
  },
  {
   "cell_type": "markdown",
   "id": "08cf33c6-18d5-466e-99ce-6224c3adb429",
   "metadata": {
    "jp-MarkdownHeadingCollapsed": true
   },
   "source": [
    "<h1 style=\"color: #0ae255;\">09 |  Final Conclusions </h1>"
   ]
  },
  {
   "cell_type": "code",
   "execution_count": null,
   "id": "ada04a3d-90a8-426d-a6a4-1206f1e156b1",
   "metadata": {},
   "outputs": [],
   "source": [
    "all_metrics = {\n",
    "    'Model': ['Linear Regression', 'Ridge', 'Lasso', 'Decision Tree', 'KNN', 'XGBoost','MinMaxScaler ', 'StandardScaler', 'Log_Transform',\"Linear_Regression_Above\",\"Linear_Regression_650\"],\n",
    "    'R²': [r2, r2_ridge, r2_lasso, r2_tree, r2_knn, r2_xgb,r2_scaler, r2_xg_stand, r2_xg_log, r2_above,r2_650],\n",
    "    'RMSE': [RMSE, RMSE_ridge, RMSE_lasso, RMSE_tree, RMSE_knn, RMSE_xgb,RMSE_scaler, RMSE_xg_stand, RMSE_xg_log, RMSE_above, RMSE_650],\n",
    "    'MSE': [MSE, MSE_ridge, MSE_lasso, MSE_tree, MSE_knn, MSE_xgb, MSE_scaler, MSE_xg_stand, MSE_xg_log, MSE_above, MSE_650 ],\n",
    "    'MAE': [MAE, MAE_ridge, MAE_lasso, MAE_tree, MAE_knn, MAE_xgb, MAE_scaler, MAE_xg_stand, MAE_xg_log,MAE_above, MAE_650 ]\n",
    "}"
   ]
  },
  {
   "cell_type": "code",
   "execution_count": null,
   "id": "a6bf5c62-5f25-48ca-92ed-a40d81875d2c",
   "metadata": {},
   "outputs": [],
   "source": [
    "df_all_metrics = pd.DataFrame(all_metrics)\n",
    "df_all_metrics.set_index(\"Model\").T"
   ]
  },
  {
   "cell_type": "code",
   "execution_count": null,
   "id": "aded532b-4315-4053-af09-1eb1d51320e3",
   "metadata": {},
   "outputs": [],
   "source": []
  }
 ],
 "metadata": {
  "kernelspec": {
   "display_name": "Python 3 (ipykernel)",
   "language": "python",
   "name": "python3"
  },
  "language_info": {
   "codemirror_mode": {
    "name": "ipython",
    "version": 3
   },
   "file_extension": ".py",
   "mimetype": "text/x-python",
   "name": "python",
   "nbconvert_exporter": "python",
   "pygments_lexer": "ipython3",
   "version": "3.12.4"
  }
 },
 "nbformat": 4,
 "nbformat_minor": 5
}
